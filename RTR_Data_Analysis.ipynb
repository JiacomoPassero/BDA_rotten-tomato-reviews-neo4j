{
 "cells": [
  {
   "metadata": {},
   "cell_type": "markdown",
   "source": "Data analysis su Rotten Tomato Reviews database",
   "id": "9b7d2354be08a7a2"
  },
  {
   "metadata": {},
   "cell_type": "markdown",
   "source": "",
   "id": "fe14b465c533479c"
  },
  {
   "metadata": {
    "ExecuteTime": {
     "end_time": "2024-05-22T06:54:13.733735Z",
     "start_time": "2024-05-22T06:54:13.716212Z"
    }
   },
   "cell_type": "code",
   "source": [
    "from math import nan\n",
    "import re\n",
    "import pandas as pd\n",
    "import numpy as np\n",
    "import os\n",
    "import matplotlib.pyplot as plt\n",
    "import seaborn as sns\n",
    "import csv\n",
    "import shutil"
   ],
   "id": "2d08c87b54a16f79",
   "outputs": [],
   "execution_count": 44
  },
  {
   "metadata": {},
   "cell_type": "markdown",
   "source": "Creazione dataset",
   "id": "cfaafcf677f8a6f5"
  },
  {
   "metadata": {
    "ExecuteTime": {
     "end_time": "2024-05-22T06:19:57.325592Z",
     "start_time": "2024-05-22T06:19:57.319486Z"
    }
   },
   "cell_type": "code",
   "source": [
    "os.environ['KAGGLE_USERNAME'] = 'YOUR_USER'\n",
    "os.environ['KAGGLE_KEY'] = 'YOUR_KEY'\n"
   ],
   "id": "353a6c072bd72d5a",
   "outputs": [],
   "execution_count": 2
  },
  {
   "metadata": {
    "ExecuteTime": {
     "end_time": "2024-05-22T06:20:16.573121Z",
     "start_time": "2024-05-22T06:20:02.176686Z"
    }
   },
   "cell_type": "code",
   "source": "!pip install kaggle",
   "id": "29b774f44a3d05f4",
   "outputs": [
    {
     "name": "stderr",
     "output_type": "stream",
     "text": [
      "\n",
      "[notice] A new release of pip is available: 23.2.1 -> 24.0\n",
      "[notice] To update, run: python.exe -m pip install --upgrade pip\n"
     ]
    },
    {
     "name": "stdout",
     "output_type": "stream",
     "text": [
      "Collecting kaggle\n",
      "  Downloading kaggle-1.6.14.tar.gz (82 kB)\n",
      "     ---------------------------------------- 0.0/82.1 kB ? eta -:--:--\n",
      "     ---- ----------------------------------- 10.2/82.1 kB ? eta -:--:--\n",
      "     -------------- ----------------------- 30.7/82.1 kB 435.7 kB/s eta 0:00:01\n",
      "     -------------------------------------- 82.1/82.1 kB 659.2 kB/s eta 0:00:00\n",
      "  Installing build dependencies: started\n",
      "  Installing build dependencies: finished with status 'done'\n",
      "  Getting requirements to build wheel: started\n",
      "  Getting requirements to build wheel: finished with status 'done'\n",
      "  Preparing metadata (pyproject.toml): started\n",
      "  Preparing metadata (pyproject.toml): finished with status 'done'\n",
      "Requirement already satisfied: six>=1.10 in c:\\users\\bupar\\.virtualenvs\\rottentomatoereviews\\lib\\site-packages (from kaggle) (1.16.0)\n",
      "Requirement already satisfied: certifi>=2023.7.22 in c:\\users\\bupar\\.virtualenvs\\rottentomatoereviews\\lib\\site-packages (from kaggle) (2024.2.2)\n",
      "Requirement already satisfied: python-dateutil in c:\\users\\bupar\\.virtualenvs\\rottentomatoereviews\\lib\\site-packages (from kaggle) (2.9.0.post0)\n",
      "Requirement already satisfied: requests in c:\\users\\bupar\\.virtualenvs\\rottentomatoereviews\\lib\\site-packages (from kaggle) (2.32.1)\n",
      "Collecting tqdm (from kaggle)\n",
      "  Obtaining dependency information for tqdm from https://files.pythonhosted.org/packages/18/eb/fdb7eb9e48b7b02554e1664afd3bd3f117f6b6d6c5881438a0b055554f9b/tqdm-4.66.4-py3-none-any.whl.metadata\n",
      "  Downloading tqdm-4.66.4-py3-none-any.whl.metadata (57 kB)\n",
      "     ---------------------------------------- 0.0/57.6 kB ? eta -:--:--\n",
      "     ---------------------------------------- 57.6/57.6 kB 3.2 MB/s eta 0:00:00\n",
      "Collecting python-slugify (from kaggle)\n",
      "  Obtaining dependency information for python-slugify from https://files.pythonhosted.org/packages/a4/62/02da182e544a51a5c3ccf4b03ab79df279f9c60c5e82d5e8bec7ca26ac11/python_slugify-8.0.4-py2.py3-none-any.whl.metadata\n",
      "  Downloading python_slugify-8.0.4-py2.py3-none-any.whl.metadata (8.5 kB)\n",
      "Requirement already satisfied: urllib3 in c:\\users\\bupar\\.virtualenvs\\rottentomatoereviews\\lib\\site-packages (from kaggle) (2.2.1)\n",
      "Requirement already satisfied: bleach in c:\\users\\bupar\\.virtualenvs\\rottentomatoereviews\\lib\\site-packages (from kaggle) (6.1.0)\n",
      "Requirement already satisfied: webencodings in c:\\users\\bupar\\.virtualenvs\\rottentomatoereviews\\lib\\site-packages (from bleach->kaggle) (0.5.1)\n",
      "Collecting text-unidecode>=1.3 (from python-slugify->kaggle)\n",
      "  Obtaining dependency information for text-unidecode>=1.3 from https://files.pythonhosted.org/packages/a6/a5/c0b6468d3824fe3fde30dbb5e1f687b291608f9473681bbf7dabbf5a87d7/text_unidecode-1.3-py2.py3-none-any.whl.metadata\n",
      "  Downloading text_unidecode-1.3-py2.py3-none-any.whl.metadata (2.4 kB)\n",
      "Requirement already satisfied: charset-normalizer<4,>=2 in c:\\users\\bupar\\.virtualenvs\\rottentomatoereviews\\lib\\site-packages (from requests->kaggle) (3.3.2)\n",
      "Requirement already satisfied: idna<4,>=2.5 in c:\\users\\bupar\\.virtualenvs\\rottentomatoereviews\\lib\\site-packages (from requests->kaggle) (3.7)\n",
      "Requirement already satisfied: colorama in c:\\users\\bupar\\.virtualenvs\\rottentomatoereviews\\lib\\site-packages (from tqdm->kaggle) (0.4.6)\n",
      "Downloading python_slugify-8.0.4-py2.py3-none-any.whl (10 kB)\n",
      "Downloading tqdm-4.66.4-py3-none-any.whl (78 kB)\n",
      "   ---------------------------------------- 0.0/78.3 kB ? eta -:--:--\n",
      "   ---------------------------------------- 78.3/78.3 kB ? eta 0:00:00\n",
      "Downloading text_unidecode-1.3-py2.py3-none-any.whl (78 kB)\n",
      "   ---------------------------------------- 0.0/78.2 kB ? eta -:--:--\n",
      "   ---------------------------------------- 78.2/78.2 kB 4.5 MB/s eta 0:00:00\n",
      "Building wheels for collected packages: kaggle\n",
      "  Building wheel for kaggle (pyproject.toml): started\n",
      "  Building wheel for kaggle (pyproject.toml): finished with status 'done'\n",
      "  Created wheel for kaggle: filename=kaggle-1.6.14-py3-none-any.whl size=105128 sha256=1c7f0abf44d66294364b3f1a90884f698f3029bb7e556c19b95a1e2d2c6c5deb\n",
      "  Stored in directory: c:\\users\\bupar\\appdata\\local\\pip\\cache\\wheels\\89\\bc\\52\\0d140fc172783e1e72e3af4dfc13015dc154527fafb95e65cd\n",
      "Successfully built kaggle\n",
      "Installing collected packages: text-unidecode, tqdm, python-slugify, kaggle\n",
      "Successfully installed kaggle-1.6.14 python-slugify-8.0.4 text-unidecode-1.3 tqdm-4.66.4\n"
     ]
    }
   ],
   "execution_count": 3
  },
  {
   "metadata": {
    "ExecuteTime": {
     "end_time": "2024-05-22T06:30:09.419223Z",
     "start_time": "2024-05-22T06:29:47.485504Z"
    }
   },
   "cell_type": "code",
   "source": "!kaggle datasets download -p ./data -d andrezaza/clapper-massive-rotten-tomatoes-movies-and-reviews  --unzip ",
   "id": "94a833aa76459948",
   "outputs": [
    {
     "name": "stdout",
     "output_type": "stream",
     "text": [
      "Dataset URL: https://www.kaggle.com/datasets/andrezaza/clapper-massive-rotten-tomatoes-movies-and-reviews\n",
      "License(s): CC0-1.0\n",
      "Downloading clapper-massive-rotten-tomatoes-movies-and-reviews.zip to ./data\n",
      "\n"
     ]
    },
    {
     "name": "stderr",
     "output_type": "stream",
     "text": [
      "\n",
      "  0%|          | 0.00/152M [00:00<?, ?B/s]\n",
      "  1%|          | 1.00M/152M [00:00<01:04, 2.44MB/s]\n",
      "  2%|1         | 3.00M/152M [00:00<00:27, 5.70MB/s]\n",
      "  3%|3         | 5.00M/152M [00:00<00:20, 7.65MB/s]\n",
      "  5%|4         | 7.00M/152M [00:00<00:16, 8.98MB/s]\n",
      "  5%|5         | 8.00M/152M [00:01<00:16, 9.21MB/s]\n",
      "  7%|6         | 10.0M/152M [00:01<00:15, 9.91MB/s]\n",
      "  8%|7         | 12.0M/152M [00:01<00:13, 10.6MB/s]\n",
      "  9%|9         | 14.0M/152M [00:01<00:13, 10.7MB/s]\n",
      " 11%|#         | 16.0M/152M [00:01<00:12, 11.0MB/s]\n",
      " 12%|#1        | 18.0M/152M [00:02<00:12, 11.1MB/s]\n",
      " 13%|#3        | 20.0M/152M [00:02<00:12, 11.2MB/s]\n",
      " 14%|#4        | 22.0M/152M [00:02<00:12, 11.2MB/s]\n",
      " 16%|#5        | 24.0M/152M [00:02<00:11, 11.2MB/s]\n",
      " 17%|#7        | 26.0M/152M [00:02<00:11, 11.4MB/s]\n",
      " 18%|#8        | 28.0M/152M [00:02<00:11, 11.2MB/s]\n",
      " 20%|#9        | 30.0M/152M [00:03<00:11, 11.2MB/s]\n",
      " 21%|##1       | 32.0M/152M [00:03<00:11, 11.2MB/s]\n",
      " 22%|##2       | 34.0M/152M [00:03<00:11, 11.2MB/s]\n",
      " 24%|##3       | 36.0M/152M [00:03<00:10, 11.4MB/s]\n",
      " 25%|##5       | 38.0M/152M [00:03<00:10, 11.0MB/s]\n",
      " 26%|##6       | 40.0M/152M [00:04<00:10, 11.1MB/s]\n",
      " 28%|##7       | 42.0M/152M [00:04<00:10, 11.2MB/s]\n",
      " 29%|##8       | 44.0M/152M [00:04<00:09, 11.4MB/s]\n",
      " 30%|###       | 46.0M/152M [00:04<00:09, 11.3MB/s]\n",
      " 32%|###1      | 48.0M/152M [00:04<00:09, 11.4MB/s]\n",
      " 33%|###2      | 50.0M/152M [00:04<00:09, 11.1MB/s]\n",
      " 34%|###4      | 52.0M/152M [00:05<00:09, 10.9MB/s]\n",
      " 36%|###5      | 54.0M/152M [00:05<00:10, 9.91MB/s]\n",
      " 36%|###6      | 55.0M/152M [00:05<00:11, 9.17MB/s]\n",
      " 37%|###6      | 56.0M/152M [00:05<00:10, 9.35MB/s]\n",
      " 38%|###8      | 58.0M/152M [00:05<00:09, 10.1MB/s]\n",
      " 39%|###9      | 60.0M/152M [00:06<00:09, 10.5MB/s]\n",
      " 41%|####      | 62.0M/152M [00:06<00:08, 10.7MB/s]\n",
      " 42%|####2     | 64.0M/152M [00:06<00:08, 11.1MB/s]\n",
      " 43%|####3     | 66.0M/152M [00:06<00:08, 11.0MB/s]\n",
      " 45%|####4     | 68.0M/152M [00:06<00:08, 10.9MB/s]\n",
      " 46%|####6     | 70.0M/152M [00:07<00:07, 11.1MB/s]\n",
      " 47%|####7     | 72.0M/152M [00:07<00:07, 11.3MB/s]\n",
      " 49%|####8     | 74.0M/152M [00:07<00:07, 11.1MB/s]\n",
      " 50%|#####     | 76.0M/152M [00:07<00:07, 11.2MB/s]\n",
      " 51%|#####1    | 78.0M/152M [00:07<00:06, 11.3MB/s]\n",
      " 53%|#####2    | 80.0M/152M [00:07<00:06, 11.4MB/s]\n",
      " 54%|#####3    | 82.0M/152M [00:08<00:06, 11.3MB/s]\n",
      " 55%|#####5    | 84.0M/152M [00:08<00:06, 11.2MB/s]\n",
      " 57%|#####6    | 86.0M/152M [00:08<00:06, 11.1MB/s]\n",
      " 58%|#####7    | 88.0M/152M [00:08<00:06, 11.1MB/s]\n",
      " 59%|#####9    | 90.0M/152M [00:08<00:05, 11.2MB/s]\n",
      " 61%|######    | 92.0M/152M [00:09<00:05, 11.1MB/s]\n",
      " 62%|######1   | 94.0M/152M [00:09<00:05, 10.9MB/s]\n",
      " 63%|######3   | 96.0M/152M [00:09<00:05, 11.0MB/s]\n",
      " 65%|######4   | 98.0M/152M [00:09<00:05, 11.1MB/s]\n",
      " 66%|######5   | 100M/152M [00:09<00:05, 10.8MB/s] \n",
      " 67%|######7   | 102M/152M [00:10<00:04, 11.1MB/s]\n",
      " 68%|######8   | 104M/152M [00:10<00:04, 11.3MB/s]\n",
      " 70%|######9   | 106M/152M [00:10<00:04, 11.3MB/s]\n",
      " 71%|#######1  | 108M/152M [00:10<00:04, 9.33MB/s]\n",
      " 72%|#######1  | 109M/152M [00:10<00:05, 8.83MB/s]\n",
      " 73%|#######3  | 111M/152M [00:11<00:04, 9.55MB/s]\n",
      " 74%|#######4  | 113M/152M [00:11<00:04, 10.0MB/s]\n",
      " 76%|#######5  | 115M/152M [00:11<00:04, 9.61MB/s]\n",
      " 77%|#######7  | 117M/152M [00:11<00:03, 10.9MB/s]\n",
      " 78%|#######8  | 119M/152M [00:11<00:03, 10.7MB/s]\n",
      " 80%|#######9  | 121M/152M [00:11<00:02, 10.8MB/s]\n",
      " 81%|########  | 123M/152M [00:12<00:02, 11.0MB/s]\n",
      " 82%|########2 | 125M/152M [00:12<00:02, 11.1MB/s]\n",
      " 84%|########3 | 127M/152M [00:12<00:02, 11.2MB/s]\n",
      " 85%|########4 | 129M/152M [00:12<00:02, 11.3MB/s]\n",
      " 86%|########6 | 131M/152M [00:12<00:02, 10.7MB/s]\n",
      " 88%|########7 | 133M/152M [00:13<00:01, 10.7MB/s]\n",
      " 89%|########8 | 135M/152M [00:13<00:01, 10.9MB/s]\n",
      " 90%|######### | 137M/152M [00:13<00:01, 11.0MB/s]\n",
      " 92%|#########1| 139M/152M [00:13<00:01, 11.1MB/s]\n",
      " 93%|#########2| 141M/152M [00:13<00:01, 11.2MB/s]\n",
      " 94%|#########4| 143M/152M [00:14<00:00, 11.3MB/s]\n",
      " 95%|#########5| 145M/152M [00:14<00:00, 11.3MB/s]\n",
      " 97%|#########6| 147M/152M [00:14<00:00, 11.2MB/s]\n",
      " 98%|#########8| 149M/152M [00:14<00:00, 11.1MB/s]\n",
      " 99%|#########9| 151M/152M [00:14<00:00, 11.2MB/s]\n",
      "100%|##########| 152M/152M [00:14<00:00, 10.7MB/s]\n"
     ]
    }
   ],
   "execution_count": 15
  },
  {
   "metadata": {
    "ExecuteTime": {
     "end_time": "2024-05-22T06:30:56.339718Z",
     "start_time": "2024-05-22T06:30:49.219396Z"
    }
   },
   "cell_type": "code",
   "source": "df=pd.read_csv('./data/rotten_tomatoes_movie_reviews.csv')",
   "id": "675af5e561087c60",
   "outputs": [],
   "execution_count": 16
  },
  {
   "metadata": {},
   "cell_type": "markdown",
   "source": "Exploratory Data Analysis e Data Wrangling",
   "id": "a901def42271f99"
  },
  {
   "metadata": {
    "ExecuteTime": {
     "end_time": "2024-05-22T06:31:10.492998Z",
     "start_time": "2024-05-22T06:31:10.463495Z"
    }
   },
   "cell_type": "code",
   "source": "df.head()",
   "id": "aee3d71625104083",
   "outputs": [
    {
     "data": {
      "text/plain": [
       "                                  id  reviewId creationDate       criticName  \\\n",
       "0                            beavers   1145982   2003-05-23  Ivan M. Lincoln   \n",
       "1                         blood_mask   1636744   2007-06-02    The Foywonder   \n",
       "2  city_hunter_shinjuku_private_eyes   2590987   2019-05-28     Reuben Baron   \n",
       "3  city_hunter_shinjuku_private_eyes   2558908   2019-02-14      Matt Schley   \n",
       "4                 dangerous_men_2015   2504681   2018-08-29        Pat Padua   \n",
       "\n",
       "   isTopCritic originalScore reviewState                 publicatioName  \\\n",
       "0        False         3.5/4       fresh  Deseret News (Salt Lake City)   \n",
       "1        False           1/5      rotten                  Dread Central   \n",
       "2        False           NaN       fresh                            CBR   \n",
       "3        False         2.5/5      rotten                    Japan Times   \n",
       "4        False           NaN       fresh                          DCist   \n",
       "\n",
       "                                          reviewText scoreSentiment  \\\n",
       "0  Timed to be just long enough for most youngste...       POSITIVE   \n",
       "1  It doesn't matter if a movie costs 300 million...       NEGATIVE   \n",
       "2  The choreography is so precise and lifelike at...       POSITIVE   \n",
       "3  The film's out-of-touch attempts at humor may ...       NEGATIVE   \n",
       "4  Its clumsy determination is endearing and some...       POSITIVE   \n",
       "\n",
       "                                           reviewUrl  \n",
       "0  http://www.deseretnews.com/article/700003233/B...  \n",
       "1  http://www.dreadcentral.com/index.php?name=Rev...  \n",
       "2  https://www.cbr.com/city-hunter-shinjuku-priva...  \n",
       "3  https://www.japantimes.co.jp/culture/2019/02/0...  \n",
       "4  http://dcist.com/2015/11/out_of_frame_dangerou...  "
      ],
      "text/html": [
       "<div>\n",
       "<style scoped>\n",
       "    .dataframe tbody tr th:only-of-type {\n",
       "        vertical-align: middle;\n",
       "    }\n",
       "\n",
       "    .dataframe tbody tr th {\n",
       "        vertical-align: top;\n",
       "    }\n",
       "\n",
       "    .dataframe thead th {\n",
       "        text-align: right;\n",
       "    }\n",
       "</style>\n",
       "<table border=\"1\" class=\"dataframe\">\n",
       "  <thead>\n",
       "    <tr style=\"text-align: right;\">\n",
       "      <th></th>\n",
       "      <th>id</th>\n",
       "      <th>reviewId</th>\n",
       "      <th>creationDate</th>\n",
       "      <th>criticName</th>\n",
       "      <th>isTopCritic</th>\n",
       "      <th>originalScore</th>\n",
       "      <th>reviewState</th>\n",
       "      <th>publicatioName</th>\n",
       "      <th>reviewText</th>\n",
       "      <th>scoreSentiment</th>\n",
       "      <th>reviewUrl</th>\n",
       "    </tr>\n",
       "  </thead>\n",
       "  <tbody>\n",
       "    <tr>\n",
       "      <th>0</th>\n",
       "      <td>beavers</td>\n",
       "      <td>1145982</td>\n",
       "      <td>2003-05-23</td>\n",
       "      <td>Ivan M. Lincoln</td>\n",
       "      <td>False</td>\n",
       "      <td>3.5/4</td>\n",
       "      <td>fresh</td>\n",
       "      <td>Deseret News (Salt Lake City)</td>\n",
       "      <td>Timed to be just long enough for most youngste...</td>\n",
       "      <td>POSITIVE</td>\n",
       "      <td>http://www.deseretnews.com/article/700003233/B...</td>\n",
       "    </tr>\n",
       "    <tr>\n",
       "      <th>1</th>\n",
       "      <td>blood_mask</td>\n",
       "      <td>1636744</td>\n",
       "      <td>2007-06-02</td>\n",
       "      <td>The Foywonder</td>\n",
       "      <td>False</td>\n",
       "      <td>1/5</td>\n",
       "      <td>rotten</td>\n",
       "      <td>Dread Central</td>\n",
       "      <td>It doesn't matter if a movie costs 300 million...</td>\n",
       "      <td>NEGATIVE</td>\n",
       "      <td>http://www.dreadcentral.com/index.php?name=Rev...</td>\n",
       "    </tr>\n",
       "    <tr>\n",
       "      <th>2</th>\n",
       "      <td>city_hunter_shinjuku_private_eyes</td>\n",
       "      <td>2590987</td>\n",
       "      <td>2019-05-28</td>\n",
       "      <td>Reuben Baron</td>\n",
       "      <td>False</td>\n",
       "      <td>NaN</td>\n",
       "      <td>fresh</td>\n",
       "      <td>CBR</td>\n",
       "      <td>The choreography is so precise and lifelike at...</td>\n",
       "      <td>POSITIVE</td>\n",
       "      <td>https://www.cbr.com/city-hunter-shinjuku-priva...</td>\n",
       "    </tr>\n",
       "    <tr>\n",
       "      <th>3</th>\n",
       "      <td>city_hunter_shinjuku_private_eyes</td>\n",
       "      <td>2558908</td>\n",
       "      <td>2019-02-14</td>\n",
       "      <td>Matt Schley</td>\n",
       "      <td>False</td>\n",
       "      <td>2.5/5</td>\n",
       "      <td>rotten</td>\n",
       "      <td>Japan Times</td>\n",
       "      <td>The film's out-of-touch attempts at humor may ...</td>\n",
       "      <td>NEGATIVE</td>\n",
       "      <td>https://www.japantimes.co.jp/culture/2019/02/0...</td>\n",
       "    </tr>\n",
       "    <tr>\n",
       "      <th>4</th>\n",
       "      <td>dangerous_men_2015</td>\n",
       "      <td>2504681</td>\n",
       "      <td>2018-08-29</td>\n",
       "      <td>Pat Padua</td>\n",
       "      <td>False</td>\n",
       "      <td>NaN</td>\n",
       "      <td>fresh</td>\n",
       "      <td>DCist</td>\n",
       "      <td>Its clumsy determination is endearing and some...</td>\n",
       "      <td>POSITIVE</td>\n",
       "      <td>http://dcist.com/2015/11/out_of_frame_dangerou...</td>\n",
       "    </tr>\n",
       "  </tbody>\n",
       "</table>\n",
       "</div>"
      ]
     },
     "execution_count": 17,
     "metadata": {},
     "output_type": "execute_result"
    }
   ],
   "execution_count": 17
  },
  {
   "metadata": {
    "ExecuteTime": {
     "end_time": "2024-05-22T06:31:54.327348Z",
     "start_time": "2024-05-22T06:31:51.151616Z"
    }
   },
   "cell_type": "code",
   "source": [
    "print(f\"Dimensioni dataset {df['reviewId'].size}\")\n",
    "for column in df.columns:\n",
    "    print(f\"Valori unici per colonna {column} : {df[column].unique().size}\")"
   ],
   "id": "31b115aa43f3a90a",
   "outputs": [
    {
     "name": "stdout",
     "output_type": "stream",
     "text": [
      "Dimensioni dataset 1444963\n",
      "Valori unici per colonna id : 69263\n",
      "Valori unici per colonna reviewId : 1432569\n",
      "Valori unici per colonna creationDate : 8510\n",
      "Valori unici per colonna criticName : 15510\n",
      "Valori unici per colonna isTopCritic : 2\n",
      "Valori unici per colonna originalScore : 1730\n",
      "Valori unici per colonna reviewState : 2\n",
      "Valori unici per colonna publicatioName : 2707\n",
      "Valori unici per colonna reviewText : 1359772\n",
      "Valori unici per colonna scoreSentiment : 2\n",
      "Valori unici per colonna reviewUrl : 1138351\n"
     ]
    }
   ],
   "execution_count": 18
  },
  {
   "metadata": {
    "ExecuteTime": {
     "end_time": "2024-05-22T06:32:47.249908Z",
     "start_time": "2024-05-22T06:32:46.654759Z"
    }
   },
   "cell_type": "code",
   "source": [
    "#Approssimazione iniziale delle dimensioni del graph dataset\n",
    "nodi = df[\"criticName\"].unique().size + df[\"id\"].unique().size\n",
    "archi = df[\"reviewId\"].unique().size\n",
    "\n",
    "print(f\"Reviews = G(N={nodi},L={archi})\")"
   ],
   "id": "cb15a0923d23ff2a",
   "outputs": [
    {
     "name": "stdout",
     "output_type": "stream",
     "text": [
      "Reviews = G(N=84773,L=1432569)\n"
     ]
    }
   ],
   "execution_count": 20
  },
  {
   "metadata": {
    "ExecuteTime": {
     "end_time": "2024-05-22T06:33:12.166879Z",
     "start_time": "2024-05-22T06:33:11.979702Z"
    }
   },
   "cell_type": "code",
   "source": [
    "#Degree distribution (recensori)\n",
    "degree = df[\"criticName\"].value_counts()\n",
    "print(f\"Grado minimo: {degree.min()}\")\n",
    "print(f\"Grado massimo: {degree.max()}\")"
   ],
   "id": "29103f56d5468a82",
   "outputs": [
    {
     "name": "stdout",
     "output_type": "stream",
     "text": [
      "Grado minimo: 1\n",
      "Grado massimo: 13274\n"
     ]
    }
   ],
   "execution_count": 21
  },
  {
   "metadata": {
    "ExecuteTime": {
     "end_time": "2024-05-22T06:35:12.144442Z",
     "start_time": "2024-05-22T06:35:11.861018Z"
    }
   },
   "cell_type": "code",
   "source": [
    "#Plot Distribuzione\n",
    "dist = sns.kdeplot(degree)\n",
    "dist.set_xlim(0,13274)\n",
    "plt.show()"
   ],
   "id": "e8de6149b37e249f",
   "outputs": [
    {
     "data": {
      "text/plain": [
       "<Figure size 640x480 with 1 Axes>"
      ],
      "image/png": "[encoded data removed]"
     },
     "metadata": {},
     "output_type": "display_data"
    }
   ],
   "execution_count": 24
  },
  {
   "metadata": {
    "ExecuteTime": {
     "end_time": "2024-05-22T06:35:33.425214Z",
     "start_time": "2024-05-22T06:35:33.185271Z"
    }
   },
   "cell_type": "code",
   "source": [
    "#\"Zoom\" sulla parte centrale del grafo\"\n",
    "dist = sns.kdeplot(degree)\n",
    "dist.set_xlim(0,1000)\n",
    "plt.show()"
   ],
   "id": "920ea588062c73ec",
   "outputs": [
    {
     "data": {
      "text/plain": [
       "<Figure size 640x480 with 1 Axes>"
      ],
      "image/png": "[encoded data removed]"
     },
     "metadata": {},
     "output_type": "display_data"
    }
   ],
   "execution_count": 25
  },
  {
   "metadata": {
    "ExecuteTime": {
     "end_time": "2024-05-22T06:36:18.343131Z",
     "start_time": "2024-05-22T06:36:18.196836Z"
    }
   },
   "cell_type": "code",
   "source": [
    "#Controllo su diverse formati dello score dato a un film\n",
    "df[\"originalScore\"].describe()"
   ],
   "id": "aeb973da370bb09d",
   "outputs": [
    {
     "data": {
      "text/plain": [
       "count     1009745\n",
       "unique       1729\n",
       "top           3/5\n",
       "freq       116711\n",
       "Name: originalScore, dtype: object"
      ]
     },
     "execution_count": 26,
     "metadata": {},
     "output_type": "execute_result"
    }
   ],
   "execution_count": 26
  },
  {
   "metadata": {},
   "cell_type": "markdown",
   "source": "In questo dataset l'assenza di recensione numeriche può ossere compensata approssimando dal valore score sentiment (POSITIVE o NEGATIVE); recensioni saranno normalizzate tra 0 e uno sfruttando la struttura \"valore/max_valore\" per calcolare un punteggio float valido per tutti.",
   "id": "5c79eeccce8648d3"
  },
  {
   "metadata": {
    "ExecuteTime": {
     "end_time": "2024-05-22T06:37:32.978904Z",
     "start_time": "2024-05-22T06:37:11.516145Z"
    }
   },
   "cell_type": "code",
   "source": [
    "regex = re.compile('[^a-zA-z]')\n",
    "\n",
    "#controllo voto alfabetico (A;B;C;D;E;A-;+B...)\n",
    "def convert_score_alphabetic(valore):\n",
    "    valore = valore.lower()\n",
    "    #rimozione caratteri non alfabetici, per semplicità si converte solo il numero ignorando a eventuali + o -\n",
    "    valore = regex.sub('', valore)\n",
    "\n",
    "    score_numeroco = nan\n",
    "    if valore == 'a':\n",
    "        score_numeroco = 1.0\n",
    "    elif valore == 'b':\n",
    "        score_numeroco = 0.75\n",
    "    elif valore == 'c':\n",
    "        score_numeroco = 0.5\n",
    "    elif valore == 'd':\n",
    "        score_numeroco = 0.25\n",
    "    elif valore == 'e':\n",
    "        score_numeroco = 0.0\n",
    "\n",
    "    #se non sono state identificate lettere, restituisco nan come segnalatore\n",
    "    return score_numeroco\n",
    "\n",
    "    #nel caso il voto sia un valore numerico\n",
    "def convert_pure_number(valore,score_stringa):\n",
    "    #bisogna differenziare cosa intendeva l'utente, possiamo assumere le seguenti scale:\n",
    "    # 0 - 5\n",
    "    # 0 - 10\n",
    "    # 0 - 100\n",
    "    #la prima e la seconda si intersecano, per fare un approssimazione è necessario basarsi sul sentimento\n",
    "    score_numerico = float(valore)\n",
    "    if not np.isnan(score_numerico):\n",
    "        #se il voto e <= a 5 ma comunque positivo assumiamo che sia in scala 0 -5\n",
    "        if score_numerico <= 5:\n",
    "            if score_stringa == \"POSITIVE\":\n",
    "                score = score_numerico / 5\n",
    "                #se il voto e <= a 5 e negativp assumiamo che sia in scala 0 - 10\n",
    "            else:\n",
    "                score = score_numerico / 10\n",
    "        elif score_numerico < 10:\n",
    "            score = score_numerico/10\n",
    "        elif score_numerico <= 100:\n",
    "            score = score_numerico / 100\n",
    "        else:\n",
    "            score = score_numerico / 1000\n",
    "\n",
    "        return score\n",
    "\n",
    "def create_floatScore(valore, score_sentiment):\n",
    "    #Creo un voto di default a partire sallo score sentiment nel caso non sia possibile convertire l'original score\n",
    "    default_score = 0.2\n",
    "    if score_sentiment == \"POSITIVE\":\n",
    "        default_score = 0.8\n",
    "    #converto a stringa nel caso sia un numero\n",
    "    valore = str(valore)\n",
    "    #tento conversione voto alphabetica\n",
    "    score_numerico = convert_score_alphabetic(valore)\n",
    "    if not np.isnan(score_numerico):\n",
    "        return score_numerico\n",
    "\n",
    "    #non è un voto alfabetico, procedo col controllo numerico\n",
    "    #Tento conversione con voalore in formato voto/voto_max\n",
    "    try:\n",
    "        if \"/\" in valore:\n",
    "            valore_list = valore.split(\"/\")\n",
    "            #ignoro eventuali + o - al punteggio\n",
    "            score = abs(float(valore_list[0])/float(valore_list[1]))\n",
    "            #il voto deve essere compreso tra 0 e 1\n",
    "            if score > 1:\n",
    "                score = 1.\n",
    "            elif score < 0:\n",
    "                score = 0.\n",
    "            return score\n",
    "    except:\n",
    "        pass\n",
    "\n",
    "    #Tento la conversione di un numero puro\n",
    "    try:\n",
    "        score = convert_pure_number(valore,score_sentiment)\n",
    "        #se non viene restituito un numero nel valore 0 1 significa che il numero è troppo ambiguo per essere convertito\n",
    "        if score >= 0 and score >= 1:\n",
    "            return score\n",
    "    except:\n",
    "        pass\n",
    "\n",
    "    #Se non si è riuscito ad applicare alcuna conversione allora ci si basa su un valore di default assegnato tramite sentiment:\n",
    "    return default_score\n",
    "\n",
    "df['scoreFloat'] = df.apply(lambda x: create_floatScore(x['originalScore'], x['scoreSentiment']), axis=1)"
   ],
   "id": "af286cc9729e6f1d",
   "outputs": [],
   "execution_count": 27
  },
  {
   "metadata": {
    "ExecuteTime": {
     "end_time": "2024-05-22T06:37:40.797895Z",
     "start_time": "2024-05-22T06:37:40.731827Z"
    }
   },
   "cell_type": "code",
   "source": [
    "print(f\"Score non convertiti: {df['scoreFloat'].isna().sum()}\")\n",
    "print(f\"Review senza score_sentiment: {df['scoreSentiment'].isna().sum()}\")"
   ],
   "id": "c021b0f93b50350c",
   "outputs": [
    {
     "name": "stdout",
     "output_type": "stream",
     "text": [
      "Score non convertiti: 0\n",
      "Review senza score_sentiment: 0\n"
     ]
    }
   ],
   "execution_count": 28
  },
  {
   "metadata": {},
   "cell_type": "markdown",
   "source": "Unione datasets del progetto: verrò utilizzato il secondo insieme di dati per incorporare informazioni sui movies",
   "id": "48e3dcd9723cf2ad"
  },
  {
   "metadata": {
    "ExecuteTime": {
     "end_time": "2024-05-22T06:38:59.537187Z",
     "start_time": "2024-05-22T06:38:58.979495Z"
    }
   },
   "cell_type": "code",
   "source": [
    "movies = pd.read_csv('./data/rotten_tomatoes_movies.csv')\n",
    "movies.head()"
   ],
   "id": "719998a23d00b464",
   "outputs": [
    {
     "data": {
      "text/plain": [
       "                     id                title  audienceScore  tomatoMeter  \\\n",
       "0    space-zombie-bingo  Space Zombie Bingo!           50.0          NaN   \n",
       "1       the_green_grass      The Green Grass            NaN          NaN   \n",
       "2             love_lies           Love, Lies           43.0          NaN   \n",
       "3  the_sore_losers_1997          Sore Losers           60.0          NaN   \n",
       "4  dinosaur_island_2002      Dinosaur Island           70.0          NaN   \n",
       "\n",
       "  rating ratingContents releaseDateTheaters releaseDateStreaming  \\\n",
       "0    NaN            NaN                 NaN           2018-08-25   \n",
       "1    NaN            NaN                 NaN           2020-02-11   \n",
       "2    NaN            NaN                 NaN                  NaN   \n",
       "3    NaN            NaN                 NaN           2020-10-23   \n",
       "4    NaN            NaN                 NaN           2017-03-27   \n",
       "\n",
       "   runtimeMinutes                          genre originalLanguage  \\\n",
       "0            75.0         Comedy, Horror, Sci-fi          English   \n",
       "1           114.0                          Drama          English   \n",
       "2           120.0                          Drama           Korean   \n",
       "3            90.0     Action, Mystery & thriller          English   \n",
       "4            80.0  Fantasy, Adventure, Animation          English   \n",
       "\n",
       "                        director                                  writer  \\\n",
       "0                  George Ormrod              George Ormrod,John Sabotta   \n",
       "1                Tiffany Edwards                         Tiffany Edwards   \n",
       "2  Park Heung-Sik,Heung-Sik Park  Ha Young-Joon,Jeon Yun-su,Song Hye-jin   \n",
       "3          John Michael McCarthy                   John Michael McCarthy   \n",
       "4                  Will Meugniot                                John Loy   \n",
       "\n",
       "  boxOffice distributor soundMix  \n",
       "0       NaN         NaN      NaN  \n",
       "1       NaN         NaN      NaN  \n",
       "2       NaN         NaN      NaN  \n",
       "3       NaN         NaN      NaN  \n",
       "4       NaN         NaN      NaN  "
      ],
      "text/html": [
       "<div>\n",
       "<style scoped>\n",
       "    .dataframe tbody tr th:only-of-type {\n",
       "        vertical-align: middle;\n",
       "    }\n",
       "\n",
       "    .dataframe tbody tr th {\n",
       "        vertical-align: top;\n",
       "    }\n",
       "\n",
       "    .dataframe thead th {\n",
       "        text-align: right;\n",
       "    }\n",
       "</style>\n",
       "<table border=\"1\" class=\"dataframe\">\n",
       "  <thead>\n",
       "    <tr style=\"text-align: right;\">\n",
       "      <th></th>\n",
       "      <th>id</th>\n",
       "      <th>title</th>\n",
       "      <th>audienceScore</th>\n",
       "      <th>tomatoMeter</th>\n",
       "      <th>rating</th>\n",
       "      <th>ratingContents</th>\n",
       "      <th>releaseDateTheaters</th>\n",
       "      <th>releaseDateStreaming</th>\n",
       "      <th>runtimeMinutes</th>\n",
       "      <th>genre</th>\n",
       "      <th>originalLanguage</th>\n",
       "      <th>director</th>\n",
       "      <th>writer</th>\n",
       "      <th>boxOffice</th>\n",
       "      <th>distributor</th>\n",
       "      <th>soundMix</th>\n",
       "    </tr>\n",
       "  </thead>\n",
       "  <tbody>\n",
       "    <tr>\n",
       "      <th>0</th>\n",
       "      <td>space-zombie-bingo</td>\n",
       "      <td>Space Zombie Bingo!</td>\n",
       "      <td>50.0</td>\n",
       "      <td>NaN</td>\n",
       "      <td>NaN</td>\n",
       "      <td>NaN</td>\n",
       "      <td>NaN</td>\n",
       "      <td>2018-08-25</td>\n",
       "      <td>75.0</td>\n",
       "      <td>Comedy, Horror, Sci-fi</td>\n",
       "      <td>English</td>\n",
       "      <td>George Ormrod</td>\n",
       "      <td>George Ormrod,John Sabotta</td>\n",
       "      <td>NaN</td>\n",
       "      <td>NaN</td>\n",
       "      <td>NaN</td>\n",
       "    </tr>\n",
       "    <tr>\n",
       "      <th>1</th>\n",
       "      <td>the_green_grass</td>\n",
       "      <td>The Green Grass</td>\n",
       "      <td>NaN</td>\n",
       "      <td>NaN</td>\n",
       "      <td>NaN</td>\n",
       "      <td>NaN</td>\n",
       "      <td>NaN</td>\n",
       "      <td>2020-02-11</td>\n",
       "      <td>114.0</td>\n",
       "      <td>Drama</td>\n",
       "      <td>English</td>\n",
       "      <td>Tiffany Edwards</td>\n",
       "      <td>Tiffany Edwards</td>\n",
       "      <td>NaN</td>\n",
       "      <td>NaN</td>\n",
       "      <td>NaN</td>\n",
       "    </tr>\n",
       "    <tr>\n",
       "      <th>2</th>\n",
       "      <td>love_lies</td>\n",
       "      <td>Love, Lies</td>\n",
       "      <td>43.0</td>\n",
       "      <td>NaN</td>\n",
       "      <td>NaN</td>\n",
       "      <td>NaN</td>\n",
       "      <td>NaN</td>\n",
       "      <td>NaN</td>\n",
       "      <td>120.0</td>\n",
       "      <td>Drama</td>\n",
       "      <td>Korean</td>\n",
       "      <td>Park Heung-Sik,Heung-Sik Park</td>\n",
       "      <td>Ha Young-Joon,Jeon Yun-su,Song Hye-jin</td>\n",
       "      <td>NaN</td>\n",
       "      <td>NaN</td>\n",
       "      <td>NaN</td>\n",
       "    </tr>\n",
       "    <tr>\n",
       "      <th>3</th>\n",
       "      <td>the_sore_losers_1997</td>\n",
       "      <td>Sore Losers</td>\n",
       "      <td>60.0</td>\n",
       "      <td>NaN</td>\n",
       "      <td>NaN</td>\n",
       "      <td>NaN</td>\n",
       "      <td>NaN</td>\n",
       "      <td>2020-10-23</td>\n",
       "      <td>90.0</td>\n",
       "      <td>Action, Mystery &amp; thriller</td>\n",
       "      <td>English</td>\n",
       "      <td>John Michael McCarthy</td>\n",
       "      <td>John Michael McCarthy</td>\n",
       "      <td>NaN</td>\n",
       "      <td>NaN</td>\n",
       "      <td>NaN</td>\n",
       "    </tr>\n",
       "    <tr>\n",
       "      <th>4</th>\n",
       "      <td>dinosaur_island_2002</td>\n",
       "      <td>Dinosaur Island</td>\n",
       "      <td>70.0</td>\n",
       "      <td>NaN</td>\n",
       "      <td>NaN</td>\n",
       "      <td>NaN</td>\n",
       "      <td>NaN</td>\n",
       "      <td>2017-03-27</td>\n",
       "      <td>80.0</td>\n",
       "      <td>Fantasy, Adventure, Animation</td>\n",
       "      <td>English</td>\n",
       "      <td>Will Meugniot</td>\n",
       "      <td>John Loy</td>\n",
       "      <td>NaN</td>\n",
       "      <td>NaN</td>\n",
       "      <td>NaN</td>\n",
       "    </tr>\n",
       "  </tbody>\n",
       "</table>\n",
       "</div>"
      ]
     },
     "execution_count": 29,
     "metadata": {},
     "output_type": "execute_result"
    }
   ],
   "execution_count": 29
  },
  {
   "metadata": {
    "ExecuteTime": {
     "end_time": "2024-05-22T06:39:21.677230Z",
     "start_time": "2024-05-22T06:39:19.452371Z"
    }
   },
   "cell_type": "code",
   "source": [
    "#Merge col secondo dataset\n",
    "df_merged = df.merge(\n",
    "    right = movies,\n",
    "    on = \"id\",\n",
    ")\n",
    "#rimozione colonne non utili\n",
    "df_merged = df_merged[\n",
    "    [\"id\",\n",
    "     \"reviewId\",\n",
    "     \"creationDate\",\n",
    "     \"criticName\",\n",
    "     \"isTopCritic\",\n",
    "     \"reviewState\",\n",
    "     \"scoreSentiment\",\n",
    "     \"scoreFloat\",\n",
    "     \"title\",\n",
    "     \"releaseDateStreaming\",\n",
    "     \"releaseDateTheaters\",\n",
    "     \"runtimeMinutes\",\n",
    "     \"genre\"]\n",
    "]"
   ],
   "id": "90a82659421a68bf",
   "outputs": [],
   "execution_count": 30
  },
  {
   "metadata": {
    "ExecuteTime": {
     "end_time": "2024-05-22T06:40:27.713346Z",
     "start_time": "2024-05-22T06:40:07.415942Z"
    }
   },
   "cell_type": "code",
   "source": [
    "#Correzzione creationDate della review\n",
    "def adjust_creation_date(creationDate,releaseDateStreaming,releaseDateTheaters):\n",
    "    #se una recensione non ha una data di creazione valida (minore del caricamento del film) allora\n",
    "    #viene sostituita dalla di rilascio del film cheè la prima logica dalla quale una recensione su di esso\n",
    "    #può esistere.\n",
    "    #il formato stringhe permette di fare un confronto diretto\n",
    "    #setto il valore di default al minimo del datavase\n",
    "    new_date = creationDate\n",
    "    #do la precedenza alla data di rilascio nei cinema se esiste lasciando sovrascrivere la data di rilascio streaming\n",
    "    if not pd.isnull(releaseDateStreaming) and creationDate < releaseDateStreaming:\n",
    "        new_date = releaseDateStreaming\n",
    "    elif not pd.isnull(releaseDateTheaters) and creationDate < releaseDateTheaters:\n",
    "        new_date = releaseDateTheaters\n",
    "    else:\n",
    "        new_date = \"1800-01-01\"\n",
    "\n",
    "    #se non c'è almeno una data di rilascio non posso verificare la data\n",
    "    return new_date\n",
    "\n",
    "df_merged['creationDate'] = df_merged.apply(lambda x: adjust_creation_date(x['creationDate'],x['releaseDateStreaming'], x['releaseDateTheaters']), axis=1)"
   ],
   "id": "4bab4ada744fdcc3",
   "outputs": [],
   "execution_count": 31
  },
  {
   "metadata": {
    "ExecuteTime": {
     "end_time": "2024-05-22T06:40:43.872054Z",
     "start_time": "2024-05-22T06:40:31.620664Z"
    }
   },
   "cell_type": "code",
   "source": [
    "#Correzzione dei movietitle mancanti\n",
    "def adjust_title(title,movieId):\n",
    "    #se il title è a null lo sostituisco con l'id poichè nel database è comunque una stringa significativa\n",
    "    if pd.isnull(title):\n",
    "        split_id = movieId.split(\"_\")\n",
    "        split_id = \" \".join(split_id)\n",
    "        return split_id\n",
    "\n",
    "    return title\n",
    "\n",
    "df_merged['title'] = df_merged.apply(lambda x: adjust_title(x['title'],x['id']), axis=1)"
   ],
   "id": "31949d7a3d1aec5b",
   "outputs": [],
   "execution_count": 32
  },
  {
   "metadata": {
    "ExecuteTime": {
     "end_time": "2024-05-22T06:40:55.326997Z",
     "start_time": "2024-05-22T06:40:55.293233Z"
    }
   },
   "cell_type": "code",
   "source": [
    "#Per riempire i runtimeminutes non potendo fare paragone di similarità con altri film utilizziamo il valore 0\n",
    "avg = df_merged['runtimeMinutes'].mean()\n",
    "df_merged[\"runtimeMinutes\"] = df_merged['runtimeMinutes'].fillna(avg)"
   ],
   "id": "84f7701d6f7f01a3",
   "outputs": [],
   "execution_count": 33
  },
  {
   "metadata": {
    "ExecuteTime": {
     "end_time": "2024-05-22T06:41:22.546404Z",
     "start_time": "2024-05-22T06:41:18.675584Z"
    }
   },
   "cell_type": "code",
   "source": [
    "#Revisione del dataset\n",
    "for col in df_merged.columns:\n",
    "    print(f\"Nan in {col} : {df_merged[col].isna().sum()}\")"
   ],
   "id": "fc079d6f41cca1f6",
   "outputs": [
    {
     "name": "stdout",
     "output_type": "stream",
     "text": [
      "Nan in id : 0\n",
      "Nan in reviewId : 0\n",
      "Nan in creationDate : 0\n",
      "Nan in criticName : 0\n",
      "Nan in isTopCritic : 0\n",
      "Nan in reviewState : 0\n",
      "Nan in scoreSentiment : 0\n",
      "Nan in scoreFloat : 0\n",
      "Nan in title : 0\n",
      "Nan in releaseDateStreaming : 113821\n",
      "Nan in releaseDateTheaters : 285473\n",
      "Nan in runtimeMinutes : 0\n",
      "Nan in genre : 23450\n"
     ]
    }
   ],
   "execution_count": 34
  },
  {
   "metadata": {},
   "cell_type": "markdown",
   "source": "Siamo in una situazione di dati sufficienti a procedere con la crazione del database, le mancanze in genre non rappresentano un problema per le operazioni di data analysis del progetto.",
   "id": "cc2cd101d30be56a"
  },
  {
   "metadata": {},
   "cell_type": "markdown",
   "source": "Creazione database Neo4j",
   "id": "6eff0b7dff9218ee"
  },
  {
   "metadata": {},
   "cell_type": "markdown",
   "source": "Creazione liste di film dalla colonna id e dei recensori dalla colonna criticName",
   "id": "e4d9d913c8fdd51d"
  },
  {
   "metadata": {
    "ExecuteTime": {
     "end_time": "2024-05-22T06:43:02.025664Z",
     "start_time": "2024-05-22T06:43:01.669151Z"
    }
   },
   "cell_type": "code",
   "source": [
    "#Non ci sono entry senza titolo o criticName dunque posso passare direttamente\n",
    "#alla creazione del set senza dover ripulire quei campi\n",
    "print(f\"Recensioni senza film: {df_merged['id'].isna().sum()}\")\n",
    "print(f\"Recensioni senza nome recensore: {df_merged['criticName'].isna().sum()}\")\n",
    "#usando dei set l'insieme non conterrà ripetizioni\n",
    "films_titles = set(df_merged['id'])\n",
    "critics_names = set(df_merged['criticName'])\n",
    "print(f\"Numero film: {len(films_titles)}\")\n",
    "print(f\"Numero recensori: {len(critics_names)}\")"
   ],
   "id": "a56ebba2ce56e139",
   "outputs": [
    {
     "name": "stdout",
     "output_type": "stream",
     "text": [
      "Recensioni senza film: 0\n",
      "Recensioni senza nome recensore: 0\n",
      "Numero film: 69260\n",
      "Numero recensori: 15509\n"
     ]
    }
   ],
   "execution_count": 35
  },
  {
   "metadata": {},
   "cell_type": "markdown",
   "source": "Creazione di alcuni dizionari di supporto per la creazione del dataset",
   "id": "abde47074fb4e030"
  },
  {
   "metadata": {
    "ExecuteTime": {
     "end_time": "2024-05-22T06:43:57.500015Z",
     "start_time": "2024-05-22T06:43:52.320252Z"
    }
   },
   "cell_type": "code",
   "source": [
    "#Creazione dizionari critcName : isTop\n",
    "dict_critic_top = df_merged.set_index(\"criticName\")[\"isTopCritic\"].to_dict()\n",
    "#Creazione dizionarion id: \"title\",\"releaseDateTheaters\",\"runtimeMinutes\",\"genre\"\n",
    "dict_movie_title = df_merged.set_index(\"id\")[\"title\"].to_dict()\n",
    "dict_movie_date = df_merged.set_index(\"id\")[\"releaseDateTheaters\"].to_dict()\n",
    "dict_movie_runt = df_merged.set_index(\"id\")[\"runtimeMinutes\"].to_dict()\n",
    "dict_movie_genre = df_merged.set_index(\"id\")[\"genre\"].to_dict()"
   ],
   "id": "d664f16f818f53bd",
   "outputs": [],
   "execution_count": 36
  },
  {
   "metadata": {},
   "cell_type": "markdown",
   "source": "",
   "id": "9564372d9151f635"
  },
  {
   "metadata": {},
   "cell_type": "markdown",
   "source": "Creazione file da importare in Neo4J",
   "id": "2d80f5e799aeee30"
  },
  {
   "metadata": {
    "ExecuteTime": {
     "end_time": "2024-05-22T06:56:18.471286Z",
     "start_time": "2024-05-22T06:55:23.222188Z"
    }
   },
   "cell_type": "code",
   "source": [
    "#Creazione file critici\n",
    "shutil.rmtree(\"csv-dump\")\n",
    "os.mkdir(\"csv-dump\")\n",
    "count = 0\n",
    "with open('./csv-dump/critics.csv', encoding='utf-8',mode='w', newline='') as critics_file:\n",
    "    #definizione header\n",
    "    writer = csv.DictWriter(critics_file, fieldnames=[\"criticNumId\",\"criticName\", \"isTop\"])\n",
    "\n",
    "    for critic in critics_names:\n",
    "        critico = {\n",
    "            \"criticNumId\" : count,\n",
    "            \"criticName\"  : critic,\n",
    "            \"isTop\"       : bool(dict_critic_top[critic])\n",
    "        }\n",
    "        writer.writerow(critico)\n",
    "        count = count+1\n",
    "\n",
    "#Creazione file movies\n",
    "count = 0\n",
    "with open('./csv-dump/movies.csv', encoding='utf-8', mode='w', newline='') as movies_file:\n",
    "    #definizione header\n",
    "    writer = csv.DictWriter(movies_file, fieldnames=[\"movieNum_id\",\"movieId\",\"movieTitle\",\"releaseDateTheaters\",\"runtimeMinutes\",\"genre\"])\n",
    "\n",
    "    for movie in films_titles:\n",
    "        movie = {\n",
    "            \"movieNum_id\"         : count,\n",
    "            \"movieId\"             : movie,\n",
    "            \"movieTitle\"          : dict_movie_title[movie],\n",
    "            \"releaseDateTheaters\" : dict_movie_date[movie],\n",
    "            \"runtimeMinutes\"      : dict_movie_runt[movie],\n",
    "            \"genre\"               : dict_movie_genre[movie]\n",
    "        }\n",
    "        writer.writerow(movie)\n",
    "        count = count + 1\n",
    "\n",
    "#creazione file reviews\n",
    "count = 0\n",
    "with open('./csv-dump/reviews.csv', encoding='utf-8', mode='w', newline='') as reviews_file:\n",
    "    #definizione header\n",
    "    writer = csv.DictWriter(reviews_file, fieldnames=[\"reviewNumId\", \"criticName\", \"movieTitle\", \"reviewId\", \"creationDate\", \"scoreSentiment\", \"scoreFloat\"])\n",
    "\n",
    "    for id in df.index:\n",
    "        review = {\n",
    "            \"reviewNumId\"     : count,\n",
    "            \"criticName\"      : df[\"criticName\"][id],\n",
    "            \"movieTitle\"      : df[\"id\"][id],\n",
    "            \"reviewId\"        : df[\"reviewId\"][id],\n",
    "            \"creationDate\"    : df[\"creationDate\"][id],\n",
    "            \"scoreSentiment\"  : df[\"scoreSentiment\"][id],\n",
    "            \"scoreFloat\"      : df[\"scoreFloat\"][id]\n",
    "        }\n",
    "        writer.writerow(review)\n",
    "        count = count+1"
   ],
   "id": "b368123fe7d6a291",
   "outputs": [],
   "execution_count": 46
  },
  {
   "metadata": {},
   "cell_type": "markdown",
   "source": [
    "Creazione Database in neo4J.\n",
    "\n",
    "\n",
    "Prima di procedere è necessario creare e avviare un database locale di neo4j  cui connettersi e installare i plug in APOC e GDS per poter eseguire tutte le queri successive."
   ],
   "id": "5a416f642557c83c"
  },
  {
   "metadata": {},
   "cell_type": "markdown",
   "source": "Creazione Critics e index critics",
   "id": "e26afbeedd954e9a"
  },
  {
   "cell_type": "code",
   "id": "initial_id",
   "metadata": {
    "collapsed": true,
    "ExecuteTime": {
     "end_time": "2024-05-22T12:01:24.266746Z",
     "start_time": "2024-05-22T12:00:10.512007Z"
    }
   },
   "source": [
    "from neo4j import GraphDatabase\n",
    "\n",
    "# URI examples: \"neo4j://localhost\", \"neo4j+s://xxx.databases.neo4j.io\"\n",
    "URI = \"neo4j://localhost\"\n",
    "AUTH = (\"neo4j\", \"pomodoro\")\n",
    "\n",
    "with GraphDatabase.driver(URI, auth=AUTH) as driver:\n",
    "    driver.verify_connectivity()\n",
    "\n",
    "    # Get the name of all 42 year-olds\n",
    "    driver.execute_query(\"MATCH (c:Critic) DELETE c\")\n",
    "    records, summary, keys = driver.execute_query(\n",
    "        \"LOAD CSV FROM 'file:///critics.csv' AS row MERGE (a:Critic {criticNumId: toInteger(row[0]), criticName: row[1], isTop:toBoolean(row[2])}) RETURN a.criticName, a.isTop Limit 10\"\n",
    "    )\n",
    "\n",
    "    # Loop through results and do something with them\n",
    "    for movie in records:\n",
    "        print(movie)\n",
    "\n",
    "    # Summary information\n",
    "    print(\"The query `{query}` returned {records_count} records in {time} ms.\".format(\n",
    "        query=summary.query, records_count=len(records),\n",
    "        time=summary.result_available_after,\n",
    "    ))\n",
    "    #Creazione index\n",
    "    \n",
    "    driver.execute_query(\"DROP INDEX critic_criticName_index IF EXISTS\")\n",
    "    driver.execute_query(\"CREATE INDEX critic_criticName_index FOR (c:Critic) ON (c.criticName)\")\n",
    "\n",
    "    driver.close()"
   ],
   "outputs": [
    {
     "name": "stdout",
     "output_type": "stream",
     "text": [
      "<Record a.criticName='Olivia Cathcart' a.isTop=False>\n",
      "<Record a.criticName='Michael Kostelnuk' a.isTop=False>\n",
      "<Record a.criticName='Leo Seligsohn' a.isTop=True>\n",
      "<Record a.criticName='Chinelo Anyadiegwu' a.isTop=True>\n",
      "<Record a.criticName='George Elkind' a.isTop=False>\n",
      "<Record a.criticName='Madison Brek' a.isTop=False>\n",
      "<Record a.criticName='David Medsker' a.isTop=False>\n",
      "<Record a.criticName='Billie Cohen' a.isTop=True>\n",
      "<Record a.criticName='Kenneth Broome' a.isTop=False>\n",
      "<Record a.criticName='Garrett Green' a.isTop=False>\n",
      "The query `LOAD CSV FROM 'file:///critics.csv' AS row MERGE (a:Critic {criticNumId: toInteger(row[0]), criticName: row[1], isTop:toBoolean(row[2])}) RETURN a.criticName, a.isTop Limit 10` returned 10 records in 2 ms.\n"
     ]
    }
   ],
   "execution_count": 134
  },
  {
   "metadata": {},
   "cell_type": "markdown",
   "source": [
    "Creazione Movies e Index movies\n",
    "\n",
    "Nota: non so perchè ma l'esecuzione tramite driver delle queri che iniziano con : non funziona e cypher segnala un errore di sintassi,la stessa query lanciata da terminale cypher funziona perfettamente.\n",
    "Non sono riuscito a rintracciare la causa dell'errore quindi si lancino manualmente da terminale le query di creazione dei film e delle reviews."
   ],
   "id": "4a05245c14f29978"
  },
  {
   "metadata": {
    "ExecuteTime": {
     "end_time": "2024-05-22T12:01:43.399327Z",
     "start_time": "2024-05-22T12:01:34.917669Z"
    }
   },
   "cell_type": "code",
   "source": [
    "with GraphDatabase.driver(URI, auth=AUTH) as driver:\n",
    "    driver.verify_connectivity()\n",
    "\n",
    "    # Get the name of all 42 year-olds\n",
    "    driver.execute_query(\"MATCH (m:Movie) DELETE m\")\n",
    "    records, summary, keys = driver.execute_query(\n",
    "            \"\"\":auto LOAD CSV FROM 'file:///movies.csv' AS row\n",
    "            CALL{WITH row MERGE (m:Movie {movieNumId: toInteger(row[0]), movieId: row[1], movieTitle: row[2], releaseDateTheaters: row[3], runtimeMinutes: toFloat(row[4]), genre: row[5]})\n",
    "            }IN TRANSACTIONS OF 1000 ROWS\"\"\"\n",
    "    )\n",
    "\n",
    "    # Summary information\n",
    "    print(\"The query `{query}` returned {records_count} records in {time} ms.\".format(\n",
    "        query=summary.query, records_count=len(records),\n",
    "        time=summary.result_available_after,\n",
    "    ))\n",
    "\n",
    "    driver.execute_query(\"DROP INDEX movie_movieId_index IF EXISTS\")\n",
    "    driver.execute_query(\"CREATE INDEX movie_movieId_index FOR (m:Movie) ON (m.movieId)\")\n",
    "\n",
    "    driver.close()"
   ],
   "id": "a8c8baff6aeeffce",
   "outputs": [
    {
     "ename": "CypherSyntaxError",
     "evalue": "{code: Neo.ClientError.Statement.SyntaxError} {message: Invalid input ':': expected\r\n  \"ALTER\"\r\n  \"CALL\"\r\n  \"CREATE\"\r\n  \"DEALLOCATE\"\r\n  \"DELETE\"\r\n  \"DENY\"\r\n  \"DETACH\"\r\n  \"DROP\"\r\n  \"DRYRUN\"\r\n  \"ENABLE\"\r\n  \"FOREACH\"\r\n  \"GRANT\"\r\n  \"INSERT\"\r\n  \"LOAD\"\r\n  \"MATCH\"\r\n  \"MERGE\"\r\n  \"NODETACH\"\r\n  \"OPTIONAL\"\r\n  \"REALLOCATE\"\r\n  \"REMOVE\"\r\n  \"RENAME\"\r\n  \"RETURN\"\r\n  \"REVOKE\"\r\n  \"SET\"\r\n  \"SHOW\"\r\n  \"START\"\r\n  \"STOP\"\r\n  \"TERMINATE\"\r\n  \"UNWIND\"\r\n  \"USE\"\r\n  \"USING\"\r\n  \"WITH\" (line 1, column 1 (offset: 0))\r\n\":auto LOAD CSV FROM 'file:///movies.csv' AS row\"\r\n ^}",
     "output_type": "error",
     "traceback": [
      "\u001B[1;31m---------------------------------------------------------------------------\u001B[0m",
      "\u001B[1;31mCypherSyntaxError\u001B[0m                         Traceback (most recent call last)",
      "Cell \u001B[1;32mIn[135], line 6\u001B[0m\n\u001B[0;32m      4\u001B[0m \u001B[38;5;66;03m# Get the name of all 42 year-olds\u001B[39;00m\n\u001B[0;32m      5\u001B[0m driver\u001B[38;5;241m.\u001B[39mexecute_query(\u001B[38;5;124m\"\u001B[39m\u001B[38;5;124mMATCH (m:Movie) DELETE m\u001B[39m\u001B[38;5;124m\"\u001B[39m)\n\u001B[1;32m----> 6\u001B[0m records, summary, keys \u001B[38;5;241m=\u001B[39m \u001B[43mdriver\u001B[49m\u001B[38;5;241;43m.\u001B[39;49m\u001B[43mexecute_query\u001B[49m\u001B[43m(\u001B[49m\n\u001B[0;32m      7\u001B[0m \u001B[38;5;250;43m        \u001B[39;49m\u001B[38;5;124;43;03m\"\"\":auto LOAD CSV FROM 'file:///movies.csv' AS row\u001B[39;49;00m\n\u001B[0;32m      8\u001B[0m \u001B[38;5;124;43;03m        CALL{WITH row MERGE (m:Movie {movieNumId: toInteger(row[0]), movieId: row[1], movieTitle: row[2], releaseDateTheaters: row[3], runtimeMinutes: toFloat(row[4]), genre: row[5]})\u001B[39;49;00m\n\u001B[0;32m      9\u001B[0m \u001B[38;5;124;43;03m        }IN TRANSACTIONS OF 1000 ROWS\"\"\"\u001B[39;49;00m\n\u001B[0;32m     10\u001B[0m \u001B[43m\u001B[49m\u001B[43m)\u001B[49m\n\u001B[0;32m     12\u001B[0m \u001B[38;5;66;03m# Summary information\u001B[39;00m\n\u001B[0;32m     13\u001B[0m \u001B[38;5;28mprint\u001B[39m(\u001B[38;5;124m\"\u001B[39m\u001B[38;5;124mThe query `\u001B[39m\u001B[38;5;132;01m{query}\u001B[39;00m\u001B[38;5;124m` returned \u001B[39m\u001B[38;5;132;01m{records_count}\u001B[39;00m\u001B[38;5;124m records in \u001B[39m\u001B[38;5;132;01m{time}\u001B[39;00m\u001B[38;5;124m ms.\u001B[39m\u001B[38;5;124m\"\u001B[39m\u001B[38;5;241m.\u001B[39mformat(\n\u001B[0;32m     14\u001B[0m     query\u001B[38;5;241m=\u001B[39msummary\u001B[38;5;241m.\u001B[39mquery, records_count\u001B[38;5;241m=\u001B[39m\u001B[38;5;28mlen\u001B[39m(records),\n\u001B[0;32m     15\u001B[0m     time\u001B[38;5;241m=\u001B[39msummary\u001B[38;5;241m.\u001B[39mresult_available_after,\n\u001B[0;32m     16\u001B[0m ))\n",
      "File \u001B[1;32m~\\.virtualenvs\\RottenTomatoeReviews\\Lib\\site-packages\\neo4j\\_sync\\driver.py:927\u001B[0m, in \u001B[0;36mDriver.execute_query\u001B[1;34m(self, query_, parameters_, routing_, database_, impersonated_user_, bookmark_manager_, auth_, result_transformer_, **kwargs)\u001B[0m\n\u001B[0;32m    924\u001B[0m     \u001B[38;5;28;01mraise\u001B[39;00m \u001B[38;5;167;01mValueError\u001B[39;00m(\u001B[38;5;124m\"\u001B[39m\u001B[38;5;124mInvalid routing control value: \u001B[39m\u001B[38;5;132;01m%r\u001B[39;00m\u001B[38;5;124m\"\u001B[39m\n\u001B[0;32m    925\u001B[0m                      \u001B[38;5;241m%\u001B[39m routing_)\n\u001B[0;32m    926\u001B[0m \u001B[38;5;28;01mwith\u001B[39;00m session\u001B[38;5;241m.\u001B[39m_pipelined_begin:\n\u001B[1;32m--> 927\u001B[0m     \u001B[38;5;28;01mreturn\u001B[39;00m \u001B[43msession\u001B[49m\u001B[38;5;241;43m.\u001B[39;49m\u001B[43m_run_transaction\u001B[49m\u001B[43m(\u001B[49m\n\u001B[0;32m    928\u001B[0m \u001B[43m        \u001B[49m\u001B[43maccess_mode\u001B[49m\u001B[43m,\u001B[49m\u001B[43m \u001B[49m\u001B[43mTelemetryAPI\u001B[49m\u001B[38;5;241;43m.\u001B[39;49m\u001B[43mDRIVER\u001B[49m\u001B[43m,\u001B[49m\n\u001B[0;32m    929\u001B[0m \u001B[43m        \u001B[49m\u001B[43mwork\u001B[49m\u001B[43m,\u001B[49m\u001B[43m \u001B[49m\u001B[43m(\u001B[49m\u001B[43mquery_str\u001B[49m\u001B[43m,\u001B[49m\u001B[43m \u001B[49m\u001B[43mparameters\u001B[49m\u001B[43m,\u001B[49m\u001B[43m \u001B[49m\u001B[43mresult_transformer_\u001B[49m\u001B[43m)\u001B[49m\u001B[43m,\u001B[49m\u001B[43m \u001B[49m\u001B[43m{\u001B[49m\u001B[43m}\u001B[49m\n\u001B[0;32m    930\u001B[0m \u001B[43m    \u001B[49m\u001B[43m)\u001B[49m\n",
      "File \u001B[1;32m~\\.virtualenvs\\RottenTomatoeReviews\\Lib\\site-packages\\neo4j\\_sync\\work\\session.py:552\u001B[0m, in \u001B[0;36mSession._run_transaction\u001B[1;34m(self, access_mode, api, transaction_function, args, kwargs)\u001B[0m\n\u001B[0;32m    550\u001B[0m tx \u001B[38;5;241m=\u001B[39m \u001B[38;5;28mself\u001B[39m\u001B[38;5;241m.\u001B[39m_transaction\n\u001B[0;32m    551\u001B[0m \u001B[38;5;28;01mtry\u001B[39;00m:\n\u001B[1;32m--> 552\u001B[0m     result \u001B[38;5;241m=\u001B[39m \u001B[43mtransaction_function\u001B[49m\u001B[43m(\u001B[49m\u001B[43mtx\u001B[49m\u001B[43m,\u001B[49m\u001B[43m \u001B[49m\u001B[38;5;241;43m*\u001B[39;49m\u001B[43margs\u001B[49m\u001B[43m,\u001B[49m\u001B[43m \u001B[49m\u001B[38;5;241;43m*\u001B[39;49m\u001B[38;5;241;43m*\u001B[39;49m\u001B[43mkwargs\u001B[49m\u001B[43m)\u001B[49m\n\u001B[0;32m    553\u001B[0m \u001B[38;5;28;01mexcept\u001B[39;00m asyncio\u001B[38;5;241m.\u001B[39mCancelledError:\n\u001B[0;32m    554\u001B[0m     \u001B[38;5;66;03m# if cancellation callback has not been called yet:\u001B[39;00m\n\u001B[0;32m    555\u001B[0m     \u001B[38;5;28;01mif\u001B[39;00m \u001B[38;5;28mself\u001B[39m\u001B[38;5;241m.\u001B[39m_transaction \u001B[38;5;129;01mis\u001B[39;00m \u001B[38;5;129;01mnot\u001B[39;00m \u001B[38;5;28;01mNone\u001B[39;00m:\n",
      "File \u001B[1;32m~\\.virtualenvs\\RottenTomatoeReviews\\Lib\\site-packages\\neo4j\\_sync\\driver.py:1252\u001B[0m, in \u001B[0;36m_work\u001B[1;34m(tx, query, parameters, transformer)\u001B[0m\n\u001B[0;32m   1246\u001B[0m \u001B[38;5;28;01mdef\u001B[39;00m \u001B[38;5;21m_work\u001B[39m(\n\u001B[0;32m   1247\u001B[0m     tx: ManagedTransaction,\n\u001B[0;32m   1248\u001B[0m     query: te\u001B[38;5;241m.\u001B[39mLiteralString,\n\u001B[0;32m   1249\u001B[0m     parameters: t\u001B[38;5;241m.\u001B[39mDict[\u001B[38;5;28mstr\u001B[39m, t\u001B[38;5;241m.\u001B[39mAny],\n\u001B[0;32m   1250\u001B[0m     transformer: t\u001B[38;5;241m.\u001B[39mCallable[[Result], t\u001B[38;5;241m.\u001B[39mUnion[_T]]\n\u001B[0;32m   1251\u001B[0m ) \u001B[38;5;241m-\u001B[39m\u001B[38;5;241m>\u001B[39m _T:\n\u001B[1;32m-> 1252\u001B[0m     res \u001B[38;5;241m=\u001B[39m \u001B[43mtx\u001B[49m\u001B[38;5;241;43m.\u001B[39;49m\u001B[43mrun\u001B[49m\u001B[43m(\u001B[49m\u001B[43mquery\u001B[49m\u001B[43m,\u001B[49m\u001B[43m \u001B[49m\u001B[43mparameters\u001B[49m\u001B[43m)\u001B[49m\n\u001B[0;32m   1253\u001B[0m     \u001B[38;5;28;01mreturn\u001B[39;00m transformer(res)\n",
      "File \u001B[1;32m~\\.virtualenvs\\RottenTomatoeReviews\\Lib\\site-packages\\neo4j\\_sync\\work\\transaction.py:168\u001B[0m, in \u001B[0;36mTransactionBase.run\u001B[1;34m(self, query, parameters, **kwparameters)\u001B[0m\n\u001B[0;32m    165\u001B[0m \u001B[38;5;28mself\u001B[39m\u001B[38;5;241m.\u001B[39m_results\u001B[38;5;241m.\u001B[39mappend(result)\n\u001B[0;32m    167\u001B[0m parameters \u001B[38;5;241m=\u001B[39m \u001B[38;5;28mdict\u001B[39m(parameters \u001B[38;5;129;01mor\u001B[39;00m {}, \u001B[38;5;241m*\u001B[39m\u001B[38;5;241m*\u001B[39mkwparameters)\n\u001B[1;32m--> 168\u001B[0m \u001B[43mresult\u001B[49m\u001B[38;5;241;43m.\u001B[39;49m\u001B[43m_tx_ready_run\u001B[49m\u001B[43m(\u001B[49m\u001B[43mquery\u001B[49m\u001B[43m,\u001B[49m\u001B[43m \u001B[49m\u001B[43mparameters\u001B[49m\u001B[43m)\u001B[49m\n\u001B[0;32m    170\u001B[0m \u001B[38;5;28;01mreturn\u001B[39;00m result\n",
      "File \u001B[1;32m~\\.virtualenvs\\RottenTomatoeReviews\\Lib\\site-packages\\neo4j\\_sync\\work\\result.py:131\u001B[0m, in \u001B[0;36mResult._tx_ready_run\u001B[1;34m(self, query, parameters)\u001B[0m\n\u001B[0;32m    127\u001B[0m \u001B[38;5;28;01mdef\u001B[39;00m \u001B[38;5;21m_tx_ready_run\u001B[39m(\u001B[38;5;28mself\u001B[39m, query, parameters):\n\u001B[0;32m    128\u001B[0m     \u001B[38;5;66;03m# BEGIN+RUN does not carry any extra on the RUN message.\u001B[39;00m\n\u001B[0;32m    129\u001B[0m     \u001B[38;5;66;03m# BEGIN {extra}\u001B[39;00m\n\u001B[0;32m    130\u001B[0m     \u001B[38;5;66;03m# RUN \"query\" {parameters} {extra}\u001B[39;00m\n\u001B[1;32m--> 131\u001B[0m     \u001B[38;5;28;43mself\u001B[39;49m\u001B[38;5;241;43m.\u001B[39;49m\u001B[43m_run\u001B[49m\u001B[43m(\u001B[49m\u001B[43mquery\u001B[49m\u001B[43m,\u001B[49m\u001B[43m \u001B[49m\u001B[43mparameters\u001B[49m\u001B[43m,\u001B[49m\u001B[43m \u001B[49m\u001B[38;5;28;43;01mNone\u001B[39;49;00m\u001B[43m,\u001B[49m\u001B[43m \u001B[49m\u001B[38;5;28;43;01mNone\u001B[39;49;00m\u001B[43m,\u001B[49m\u001B[43m \u001B[49m\u001B[38;5;28;43;01mNone\u001B[39;49;00m\u001B[43m,\u001B[49m\u001B[43m \u001B[49m\u001B[38;5;28;43;01mNone\u001B[39;49;00m\u001B[43m,\u001B[49m\u001B[43m \u001B[49m\u001B[38;5;28;43;01mNone\u001B[39;49;00m\u001B[43m,\u001B[49m\u001B[43m \u001B[49m\u001B[38;5;28;43;01mNone\u001B[39;49;00m\u001B[43m)\u001B[49m\n",
      "File \u001B[1;32m~\\.virtualenvs\\RottenTomatoeReviews\\Lib\\site-packages\\neo4j\\_sync\\work\\result.py:181\u001B[0m, in \u001B[0;36mResult._run\u001B[1;34m(self, query, parameters, db, imp_user, access_mode, bookmarks, notifications_min_severity, notifications_disabled_categories)\u001B[0m\n\u001B[0;32m    179\u001B[0m \u001B[38;5;28mself\u001B[39m\u001B[38;5;241m.\u001B[39m_pull()\n\u001B[0;32m    180\u001B[0m \u001B[38;5;28mself\u001B[39m\u001B[38;5;241m.\u001B[39m_connection\u001B[38;5;241m.\u001B[39msend_all()\n\u001B[1;32m--> 181\u001B[0m \u001B[38;5;28;43mself\u001B[39;49m\u001B[38;5;241;43m.\u001B[39;49m\u001B[43m_attach\u001B[49m\u001B[43m(\u001B[49m\u001B[43m)\u001B[49m\n",
      "File \u001B[1;32m~\\.virtualenvs\\RottenTomatoeReviews\\Lib\\site-packages\\neo4j\\_sync\\work\\result.py:301\u001B[0m, in \u001B[0;36mResult._attach\u001B[1;34m(self)\u001B[0m\n\u001B[0;32m    299\u001B[0m \u001B[38;5;28;01mif\u001B[39;00m \u001B[38;5;28mself\u001B[39m\u001B[38;5;241m.\u001B[39m_exhausted \u001B[38;5;129;01mis\u001B[39;00m \u001B[38;5;28;01mFalse\u001B[39;00m:\n\u001B[0;32m    300\u001B[0m     \u001B[38;5;28;01mwhile\u001B[39;00m \u001B[38;5;28mself\u001B[39m\u001B[38;5;241m.\u001B[39m_attached \u001B[38;5;129;01mis\u001B[39;00m \u001B[38;5;28;01mFalse\u001B[39;00m:\n\u001B[1;32m--> 301\u001B[0m         \u001B[38;5;28;43mself\u001B[39;49m\u001B[38;5;241;43m.\u001B[39;49m\u001B[43m_connection\u001B[49m\u001B[38;5;241;43m.\u001B[39;49m\u001B[43mfetch_message\u001B[49m\u001B[43m(\u001B[49m\u001B[43m)\u001B[49m\n",
      "File \u001B[1;32m~\\.virtualenvs\\RottenTomatoeReviews\\Lib\\site-packages\\neo4j\\_sync\\io\\_common.py:178\u001B[0m, in \u001B[0;36mConnectionErrorHandler.__getattr__.<locals>.outer.<locals>.inner\u001B[1;34m(*args, **kwargs)\u001B[0m\n\u001B[0;32m    176\u001B[0m \u001B[38;5;28;01mdef\u001B[39;00m \u001B[38;5;21minner\u001B[39m(\u001B[38;5;241m*\u001B[39margs, \u001B[38;5;241m*\u001B[39m\u001B[38;5;241m*\u001B[39mkwargs):\n\u001B[0;32m    177\u001B[0m     \u001B[38;5;28;01mtry\u001B[39;00m:\n\u001B[1;32m--> 178\u001B[0m         \u001B[43mfunc\u001B[49m\u001B[43m(\u001B[49m\u001B[38;5;241;43m*\u001B[39;49m\u001B[43margs\u001B[49m\u001B[43m,\u001B[49m\u001B[43m \u001B[49m\u001B[38;5;241;43m*\u001B[39;49m\u001B[38;5;241;43m*\u001B[39;49m\u001B[43mkwargs\u001B[49m\u001B[43m)\u001B[49m\n\u001B[0;32m    179\u001B[0m     \u001B[38;5;28;01mexcept\u001B[39;00m (Neo4jError, ServiceUnavailable, SessionExpired) \u001B[38;5;28;01mas\u001B[39;00m exc:\n\u001B[0;32m    180\u001B[0m         \u001B[38;5;28;01massert\u001B[39;00m \u001B[38;5;129;01mnot\u001B[39;00m asyncio\u001B[38;5;241m.\u001B[39miscoroutinefunction(\u001B[38;5;28mself\u001B[39m\u001B[38;5;241m.\u001B[39m__on_error)\n",
      "File \u001B[1;32m~\\.virtualenvs\\RottenTomatoeReviews\\Lib\\site-packages\\neo4j\\_sync\\io\\_bolt.py:850\u001B[0m, in \u001B[0;36mBolt.fetch_message\u001B[1;34m(self)\u001B[0m\n\u001B[0;32m    846\u001B[0m \u001B[38;5;66;03m# Receive exactly one message\u001B[39;00m\n\u001B[0;32m    847\u001B[0m tag, fields \u001B[38;5;241m=\u001B[39m \u001B[38;5;28mself\u001B[39m\u001B[38;5;241m.\u001B[39minbox\u001B[38;5;241m.\u001B[39mpop(\n\u001B[0;32m    848\u001B[0m     hydration_hooks\u001B[38;5;241m=\u001B[39m\u001B[38;5;28mself\u001B[39m\u001B[38;5;241m.\u001B[39mresponses[\u001B[38;5;241m0\u001B[39m]\u001B[38;5;241m.\u001B[39mhydration_hooks\n\u001B[0;32m    849\u001B[0m )\n\u001B[1;32m--> 850\u001B[0m res \u001B[38;5;241m=\u001B[39m \u001B[38;5;28;43mself\u001B[39;49m\u001B[38;5;241;43m.\u001B[39;49m\u001B[43m_process_message\u001B[49m\u001B[43m(\u001B[49m\u001B[43mtag\u001B[49m\u001B[43m,\u001B[49m\u001B[43m \u001B[49m\u001B[43mfields\u001B[49m\u001B[43m)\u001B[49m\n\u001B[0;32m    851\u001B[0m \u001B[38;5;28mself\u001B[39m\u001B[38;5;241m.\u001B[39midle_since \u001B[38;5;241m=\u001B[39m monotonic()\n\u001B[0;32m    852\u001B[0m \u001B[38;5;28;01mreturn\u001B[39;00m res\n",
      "File \u001B[1;32m~\\.virtualenvs\\RottenTomatoeReviews\\Lib\\site-packages\\neo4j\\_sync\\io\\_bolt5.py:369\u001B[0m, in \u001B[0;36mBolt5x0._process_message\u001B[1;34m(self, tag, fields)\u001B[0m\n\u001B[0;32m    367\u001B[0m \u001B[38;5;28mself\u001B[39m\u001B[38;5;241m.\u001B[39m_server_state_manager\u001B[38;5;241m.\u001B[39mstate \u001B[38;5;241m=\u001B[39m \u001B[38;5;28mself\u001B[39m\u001B[38;5;241m.\u001B[39mbolt_states\u001B[38;5;241m.\u001B[39mFAILED\n\u001B[0;32m    368\u001B[0m \u001B[38;5;28;01mtry\u001B[39;00m:\n\u001B[1;32m--> 369\u001B[0m     \u001B[43mresponse\u001B[49m\u001B[38;5;241;43m.\u001B[39;49m\u001B[43mon_failure\u001B[49m\u001B[43m(\u001B[49m\u001B[43msummary_metadata\u001B[49m\u001B[43m \u001B[49m\u001B[38;5;129;43;01mor\u001B[39;49;00m\u001B[43m \u001B[49m\u001B[43m{\u001B[49m\u001B[43m}\u001B[49m\u001B[43m)\u001B[49m\n\u001B[0;32m    370\u001B[0m \u001B[38;5;28;01mexcept\u001B[39;00m (ServiceUnavailable, DatabaseUnavailable):\n\u001B[0;32m    371\u001B[0m     \u001B[38;5;28;01mif\u001B[39;00m \u001B[38;5;28mself\u001B[39m\u001B[38;5;241m.\u001B[39mpool:\n",
      "File \u001B[1;32m~\\.virtualenvs\\RottenTomatoeReviews\\Lib\\site-packages\\neo4j\\_sync\\io\\_common.py:245\u001B[0m, in \u001B[0;36mResponse.on_failure\u001B[1;34m(self, metadata)\u001B[0m\n\u001B[0;32m    243\u001B[0m handler \u001B[38;5;241m=\u001B[39m \u001B[38;5;28mself\u001B[39m\u001B[38;5;241m.\u001B[39mhandlers\u001B[38;5;241m.\u001B[39mget(\u001B[38;5;124m\"\u001B[39m\u001B[38;5;124mon_summary\u001B[39m\u001B[38;5;124m\"\u001B[39m)\n\u001B[0;32m    244\u001B[0m Util\u001B[38;5;241m.\u001B[39mcallback(handler)\n\u001B[1;32m--> 245\u001B[0m \u001B[38;5;28;01mraise\u001B[39;00m Neo4jError\u001B[38;5;241m.\u001B[39mhydrate(\u001B[38;5;241m*\u001B[39m\u001B[38;5;241m*\u001B[39mmetadata)\n",
      "\u001B[1;31mCypherSyntaxError\u001B[0m: {code: Neo.ClientError.Statement.SyntaxError} {message: Invalid input ':': expected\r\n  \"ALTER\"\r\n  \"CALL\"\r\n  \"CREATE\"\r\n  \"DEALLOCATE\"\r\n  \"DELETE\"\r\n  \"DENY\"\r\n  \"DETACH\"\r\n  \"DROP\"\r\n  \"DRYRUN\"\r\n  \"ENABLE\"\r\n  \"FOREACH\"\r\n  \"GRANT\"\r\n  \"INSERT\"\r\n  \"LOAD\"\r\n  \"MATCH\"\r\n  \"MERGE\"\r\n  \"NODETACH\"\r\n  \"OPTIONAL\"\r\n  \"REALLOCATE\"\r\n  \"REMOVE\"\r\n  \"RENAME\"\r\n  \"RETURN\"\r\n  \"REVOKE\"\r\n  \"SET\"\r\n  \"SHOW\"\r\n  \"START\"\r\n  \"STOP\"\r\n  \"TERMINATE\"\r\n  \"UNWIND\"\r\n  \"USE\"\r\n  \"USING\"\r\n  \"WITH\" (line 1, column 1 (offset: 0))\r\n\":auto LOAD CSV FROM 'file:///movies.csv' AS row\"\r\n ^}"
     ]
    }
   ],
   "execution_count": 135
  },
  {
   "metadata": {},
   "cell_type": "markdown",
   "source": "Create Reviews ",
   "id": "2acfbc00bae9530c"
  },
  {
   "metadata": {},
   "cell_type": "code",
   "outputs": [],
   "execution_count": null,
   "source": [
    "with GraphDatabase.driver(URI, auth=AUTH) as driver:\n",
    "    driver.verify_connectivity()\n",
    "\n",
    "    # Get the name of all 42 year-olds\n",
    "    driver.execute_query(\":auto CALL{MATCH ()-[r:REVIEWS]->() DELETE r}IN TRANSACTIONS OF 1000 ROWS\")\n",
    "    records, summary, keys = driver.execute_query(\n",
    "        \"\"\":auto\n",
    "            LOAD CSV FROM 'file:///reviews.csv' AS row\n",
    "            CALL{\n",
    "                WITH row\n",
    "                MATCH (c:Critic {criticName:row[1]}), (m:Movie {movieId: row[2]})\n",
    "                MERGE (c)-[:REVIEW {reviewNumId: toInteger(row[0]),reviewId:row[3], creationDate:row[4], scoreSentiment:row[5], scoreFloat:toFloat(row[6])}]->(m)\n",
    "            }IN TRANSACTIONS OF 1000 ROWS\"\"\"\n",
    "    )\n",
    "\n",
    "    # Summary information\n",
    "    print(\"The query `{query}` returned {records_count} records in {time} ms.\".format(\n",
    "        query=summary.query, records_count=len(records),\n",
    "        time=summary.result_available_after,\n",
    "    ))\n",
    "\n",
    "    driver.close()"
   ],
   "id": "e84625f4bb8592d4"
  },
  {
   "metadata": {},
   "cell_type": "markdown",
   "source": [
    "Domande con risoluzione applicate a Neo4j\n",
    "\n",
    "DOMANDA 1\n",
    "\n",
    "Un primo punto di interesse per studiare la rete di recensioni e capirne le dinamiche è valutare il grado dei nodi per identificare quali sono i recensori più prolifici; sia che vengano considerati rilevanti dalla piattaforma Rotten Tomato che di quelli più comuni.\n",
    "\n",
    "Possiamo aggiunfere ai risultati anche gli intervalli di pubblicazione delle recensioni così da poter osservare se un individuo avesse pubblicato un numero di volte eccessivamente alto rispetto al periodo di tempo nel qualeè stato attivo."
   ],
   "id": "138d0af64523fc84"
  },
  {
   "metadata": {
    "ExecuteTime": {
     "end_time": "2024-05-22T12:29:22.660751Z",
     "start_time": "2024-05-22T12:29:13.917680Z"
    }
   },
   "cell_type": "code",
   "source": [
    "with GraphDatabase.driver(URI, auth=AUTH) as driver:\n",
    "    driver.verify_connectivity()\n",
    "    records, summary, keys = driver.execute_query(\n",
    "        \"\"\"\n",
    "        match (cr:Critic)-[r:REVIEW]->()\n",
    "        return cr.criticName, min(r.creationDate) as firstReview, max(r.creationDate) as lastReview, count(r) as nReview\n",
    "        order by nReview Desc limit 10\n",
    "        \"\"\"\n",
    "    )\n",
    "    # Loop through results and do something with them\n",
    "    for movie in records:\n",
    "        print(movie)\n",
    "\n",
    "    driver.close()"
   ],
   "id": "81902f574386b6e6",
   "outputs": [
    {
     "name": "stdout",
     "output_type": "stream",
     "text": [
      "<Record cr.criticName='Emanuel Levy' firstReview='2000-01-01' lastReview='2022-05-26' nReview=13273>\n",
      "<Record cr.criticName='Dennis Schwartz' firstReview='2000-01-01' lastReview='2023-04-08' nReview=13123>\n",
      "<Record cr.criticName='Roger Moore' firstReview='1990-08-24' lastReview='2023-04-08' nReview=8411>\n",
      "<Record cr.criticName='Roger Ebert' firstReview='1800-01-01' lastReview='2023-03-15' nReview=7364>\n",
      "<Record cr.criticName='Brian Orndorf' firstReview='2000-01-01' lastReview='2023-04-06' nReview=7068>\n",
      "<Record cr.criticName='Jeffrey M. Anderson' firstReview='2000-01-01' lastReview='2023-04-07' nReview=7051>\n",
      "<Record cr.criticName='David Nusair' firstReview='2000-01-01' lastReview='2023-04-08' nReview=7013>\n",
      "<Record cr.criticName='Frank Swietek' firstReview='1995-06-30' lastReview='2023-04-07' nReview=6727>\n",
      "<Record cr.criticName='Rich Cline' firstReview='2001-12-10' lastReview='2023-04-04' nReview=6337>\n",
      "<Record cr.criticName='Frederic and Mary Ann Brussat' firstReview='2000-01-01' lastReview='2023-01-11' nReview=6263>\n"
     ]
    }
   ],
   "execution_count": 136
  },
  {
   "metadata": {},
   "cell_type": "markdown",
   "source": [
    "Abbiamo ottenuto i critici più attivi e nessuno mostra un periodo di tempo di attività troppo breve da far sospettare dell'autenticità dall'account.\n",
    "\n",
    "Nota: la data 1800-01-01 è usata come marker di un valore non disponibile nel dataset originale dunque la sua presenza non è inaccettabile anche se comunque sono presenti"
   ],
   "id": "b99b0113159dc440"
  },
  {
   "metadata": {},
   "cell_type": "markdown",
   "source": [
    "DOMANDA 2\n",
    "\n",
    "Una domanda analoga alla precedente è identificare i film più visti all'interno del database.\n",
    "Possiamo introdurre una distinzione: considerare tutti i recensori oppure solo quelli considerati topCritic ovvero che la piattaforma Rotten Tomatoes reputa più rilevanti secondo criteri propri di attività, riconoscimento dell'account e altre metriche.\n",
    "Possiamo poi paragonare i due risultati:"
   ],
   "id": "fc8fe6a341c89bb6"
  },
  {
   "metadata": {
    "ExecuteTime": {
     "end_time": "2024-05-22T12:29:37.369318Z",
     "start_time": "2024-05-22T12:29:22.660751Z"
    }
   },
   "cell_type": "code",
   "source": [
    "with GraphDatabase.driver(URI, auth=AUTH) as driver:\n",
    "    driver.verify_connectivity()\n",
    "    records, summary, keys = driver.execute_query(\n",
    "        \"\"\"\n",
    "        match (cr:Critic)-[r:REVIEW]->(m:Movie)\n",
    "        where cr.isTop = false\n",
    "        return m.movieId, m.movieTitle, count(r) as nRevs\n",
    "        order by nRevs desc\n",
    "        limit 10\n",
    "        \"\"\"\n",
    "    )\n",
    "    # Loop through results and do something with them\n",
    "    print(\"Top 10 Films considerando tutti i critici\")\n",
    "    all_movies = []\n",
    "    for movie in records:\n",
    "        print(movie)\n",
    "        all_movies.append(movie[0])\n",
    "        \n",
    "    driver.verify_connectivity()\n",
    "    records, summary, keys = driver.execute_query(\n",
    "        \"\"\"\n",
    "        match (cr:Critic)-[r:REVIEW]->(m:Movie)\n",
    "        where cr.isTop = true\n",
    "        return m.movieId, m.movieTitle, count(r) as nRevs\n",
    "        order by nRevs desc\n",
    "        limit 10\n",
    "        \"\"\"\n",
    "    )\n",
    "    # Loop through results and do something with them\n",
    "    print(\"--------------------------------------------\")\n",
    "    print(\"Top 10 Films considerandosolo i critici Top:\")\n",
    "    top_movies = []\n",
    "    for movieTop in records:\n",
    "        print(movieTop)\n",
    "        top_movies.append(movieTop[0])"
   ],
   "id": "9c2a3ff4d4547a2b",
   "outputs": [
    {
     "name": "stdout",
     "output_type": "stream",
     "text": [
      "Top 10 Films considerando tutti i critici\n",
      "<Record m.movieId='parasite_2019' m.movieTitle='Parasite' nRevs=768>\n",
      "<Record m.movieId='ant_man_and_the_wasp_quantumania' m.movieTitle='Ant-Man and The Wasp: Quantumania' nRevs=624>\n",
      "<Record m.movieId='joker_2019' m.movieTitle='Joker' nRevs=488>\n",
      "<Record m.movieId='once_upon_a_time_in_hollywood' m.movieTitle='Once Upon a Time... In Hollywood' nRevs=469>\n",
      "<Record m.movieId='avengers_endgame' m.movieTitle='Avengers: Endgame' nRevs=457>\n",
      "<Record m.movieId='captain_marvel' m.movieTitle='Captain Marvel' nRevs=454>\n",
      "<Record m.movieId='black_panther_2018' m.movieTitle='Black Panther' nRevs=430>\n",
      "<Record m.movieId='star_wars_the_rise_of_skywalker' m.movieTitle='Star Wars: The Rise of Skywalker' nRevs=430>\n",
      "<Record m.movieId='a_star_is_born_2018' m.movieTitle='A Star Is Born' nRevs=424>\n",
      "<Record m.movieId='the_batman' m.movieTitle='The Batman' nRevs=417>\n",
      "--------------------------------------------\n",
      "Top 10 Films considerandosolo i critici Top:\n",
      "<Record m.movieId='parasite_2019' m.movieTitle='Parasite' nRevs=186>\n",
      "<Record m.movieId='1193230-state_of_play' m.movieTitle='State of Play' nRevs=152>\n",
      "<Record m.movieId='ant_man_and_the_wasp_quantumania' m.movieTitle='Ant-Man and The Wasp: Quantumania' nRevs=136>\n",
      "<Record m.movieId='blue_is_the_warmest_color' m.movieTitle='Blue Is the Warmest Color' nRevs=134>\n",
      "<Record m.movieId='snow_white_and_the_huntsman' m.movieTitle='Snow White and the Huntsman' nRevs=132>\n",
      "<Record m.movieId='the_front_runner_2018' m.movieTitle='The Front Runner' nRevs=132>\n",
      "<Record m.movieId='2012' m.movieTitle='2012' nRevs=132>\n",
      "<Record m.movieId='triple_9' m.movieTitle='Triple 9' nRevs=126>\n",
      "<Record m.movieId='prairie_home_companion' m.movieTitle='A Prairie Home Companion' nRevs=118>\n",
      "<Record m.movieId='american_splendor' m.movieTitle='American Splendor' nRevs=116>\n"
     ]
    }
   ],
   "execution_count": 137
  },
  {
   "metadata": {},
   "cell_type": "markdown",
   "source": [
    "Si può vedere immediatamente che i risultati sono differenti e come nella prima query compiano più film popolari degli ultimi anni mentre nel secondo riltato figurano pellicole meno popolari ma che hanno anche ricevuto più premiazioni\n",
    "Si possono contare i film in comune nei due insiemi per ottenere un risultato preciso"
   ],
   "id": "c28325d3f0c992ef"
  },
  {
   "metadata": {
    "ExecuteTime": {
     "end_time": "2024-05-22T08:33:20.845263Z",
     "start_time": "2024-05-22T08:33:20.836350Z"
    }
   },
   "cell_type": "code",
   "source": [
    "print(\"Film comuni ai due risultati delle query\")\n",
    "print(set(all_movies).intersection(set(top_movies)))"
   ],
   "id": "66a93bc12c2b16f2",
   "outputs": [
    {
     "name": "stdout",
     "output_type": "stream",
     "text": [
      "Film comuni ai due risultati delle query\n",
      "{'ant_man_and_the_wasp_quantumania', 'parasite_2019'}\n"
     ]
    }
   ],
   "execution_count": 83
  },
  {
   "metadata": {},
   "cell_type": "markdown",
   "source": [
    "DOMANDA 3\n",
    "\n",
    "Critici Horror più rilevanti\n",
    "\n",
    "Per valutare quale nodi abbiano una maggiore influenza all'interno di un genere cinematografico specifico sono necessari tre passaggi:\n",
    "    a) Estrarre il sottografo delle critiche horror tramite graph projection\n",
    "    b) Calcolare tramite misure di centralità gli horror più rilevanti in questo sottoinsieme\n",
    "    c) Ordinare i film in ordine di misure di centralità\n",
    "Data la struttura del database (critico)-REVIEW->(movie) è opportuno utilizzare misure di centralità basate sul grado di un nodo considerando quali hanno un influenza (numero di recensioni e quindi link) maggiore.\n",
    "\n",
    "Per queste ragioni si è scelto di usare la funzione gds.degree.stream."
   ],
   "id": "2cfc2c2dee67f8c"
  },
  {
   "metadata": {},
   "cell_type": "markdown",
   "source": "Crezione proiezione grafo per i film horror",
   "id": "730da81451311725"
  },
  {
   "metadata": {},
   "cell_type": "markdown",
   "source": "",
   "id": "7ee82a4062910f77"
  },
  {
   "metadata": {
    "ExecuteTime": {
     "end_time": "2024-05-22T12:35:22.545600Z",
     "start_time": "2024-05-22T12:35:10.646367Z"
    }
   },
   "cell_type": "code",
   "source": [
    "with GraphDatabase.driver(URI, auth=AUTH) as driver:\n",
    "    driver.verify_connectivity()\n",
    "    try:\n",
    "        records, summary, keys =driver.execute_query(\n",
    "            \"\"\"\n",
    "                CALL gds.graph.drop('horrorRevs') YIELD graphName\n",
    "            \"\"\"\n",
    "        )\n",
    "    except:\n",
    "        pass\n",
    "    records, summary, keys =driver.execute_query(\n",
    "        \"\"\"\n",
    "            MATCH (source:Critic)-[r:REVIEW]->(target:Movie) \n",
    "            WHERE r.scoreSentiment = \"POSITIVE\" and \"Horror\" in target.genre \n",
    "            WITH gds.graph.project(\n",
    "                'horrorRevs', \n",
    "                source, \n",
    "                target,\n",
    "                {\n",
    "                    sourceNodeProperties: {criticNumId:source.criticNumId},\n",
    "                    targetNodeProperties: {movieNumId:target.movieNumId}\n",
    "                }\n",
    "                )as g \n",
    "            RETURN g.graphName AS graph, g.nodeCount AS nodes,g.relationshipCount AS rels\n",
    "        \"\"\"\n",
    "    )\n",
    "    \n",
    "    records, summary, keys = driver.execute_query(\n",
    "        \"\"\"\n",
    "        call gds.degree.stream('horrorRevs') \n",
    "        yield nodeId, score\n",
    "        RETURN gds.util.asNode(nodeId).criticName as criticName, score\n",
    "        order by score desc limit 20\n",
    "        \"\"\"\n",
    "    )\n",
    "    # Summary information\n",
    "    for mi_critic in records:\n",
    "        print(mi_critic)"
   ],
   "id": "d2901ea00185cf18",
   "outputs": [
    {
     "name": "stdout",
     "output_type": "stream",
     "text": [
      "<Record criticName='Anton Bitel' score=321.0>\n",
      "<Record criticName='Scott Weinberg' score=246.0>\n",
      "<Record criticName='Dennis Schwartz' score=246.0>\n",
      "<Record criticName='Ken Hanke' score=233.0>\n",
      "<Record criticName='Felix Vasquez Jr.' score=192.0>\n",
      "<Record criticName='Emanuel Levy' score=187.0>\n",
      "<Record criticName='Jeffrey M. Anderson' score=170.0>\n",
      "<Record criticName='Matt Brunson' score=155.0>\n",
      "<Record criticName='Tim Brayton' score=127.0>\n",
      "<Record criticName='Dustin Putman' score=103.0>\n",
      "<Record criticName='Jennie Kermode' score=101.0>\n",
      "<Record criticName='Fernando F. Croce' score=93.0>\n",
      "<Record criticName='C.H. Newell' score=92.0>\n",
      "<Record criticName='Rob Gonsalves' score=87.0>\n",
      "<Record criticName='Kat Hughes' score=79.0>\n",
      "<Record criticName='Cole Smithey' score=78.0>\n",
      "<Record criticName='Brian Orndorf' score=78.0>\n",
      "<Record criticName='Walter Chaw' score=77.0>\n",
      "<Record criticName='Matt Donato' score=77.0>\n",
      "<Record criticName='David Nusair' score=76.0>\n"
     ]
    }
   ],
   "execution_count": 140
  },
  {
   "metadata": {},
   "cell_type": "markdown",
   "source": "Note:Questa ricerca esclude in automatico i film perchè essendo i nodi destinatari dei link DIRETTI non hanno archi in uscita e dunque ricevono uno score nullo dalla funzione invocata e vengono escluse dal limite sui risultati",
   "id": "250f7ec4898325b0"
  },
  {
   "metadata": {},
   "cell_type": "markdown",
   "source": [
    "DOMANDA 4\n",
    "\n",
    "Film Horror più rilevanti\n",
    "\n",
    "Per valutare la rilevanza di un film dobbiamo considerare quante recensioni lo riguardano  considerando le dimensioni del gruppo di utenti che lo hanno recensito e il loro coinvolgimento nella comunity horror.\n",
    "\n",
    "In altre parole ci serve valutare la centralità del nodo in funzione dei path di cui fa parte e quindi utilizzare una misura come la betweenness centrality con la funzione gds.betweenness.stream; più adatta a questo task rispetto alla degree centrality.\n",
    "\n",
    "Inoltre è necessario filtrare i risultati sui movie perchè anche i nodi Critico con più archi, facendo parte di molti shortest paths (quelli che partono o che terminano con loro) e riceveranno uno score alto da questo metodo.\n"
   ],
   "id": "a61b2fb462b0a444"
  },
  {
   "metadata": {
    "ExecuteTime": {
     "end_time": "2024-05-22T12:35:54.770374Z",
     "start_time": "2024-05-22T12:35:42.449756Z"
    }
   },
   "cell_type": "code",
   "source": [
    "with GraphDatabase.driver(URI, auth=AUTH) as driver:\n",
    "    driver.verify_connectivity()\n",
    "    try:\n",
    "        records, summary, keys =driver.execute_query(\n",
    "            \"\"\"\n",
    "                CALL gds.graph.drop('undirectedHorrorRevs') YIELD graphName\n",
    "            \"\"\"\n",
    "        )\n",
    "    except:\n",
    "        pass\n",
    "    records, summary, keys =driver.execute_query(\n",
    "        \"\"\"\n",
    "            MATCH (source:Critic)-[r:REVIEW]->(target:Movie) \n",
    "            WHERE r.scoreSentiment = \"POSITIVE\" and \"Horror\" in target.genre \n",
    "            WITH gds.graph.project(\n",
    "                'undirectedHorrorRevs',\n",
    "                source, \n",
    "                target,\n",
    "                {\n",
    "                    sourceNodeProperties: {criticNumId:source.criticNumId},\n",
    "                    targetNodeProperties: {movieNumId:target.movieNumId}\n",
    "                },\n",
    "                {undirectedRelationshipTypes: ['*']}\n",
    "                )as g \n",
    "            RETURN g.graphName AS graph, g.nodeCount AS nodes,g.relationshipCount AS rels  \n",
    "        \"\"\"\n",
    "    )\n",
    "\n",
    "    records, summary, keys = driver.execute_query(\n",
    "        \"\"\"\n",
    "        call gds.betweenness.stream('undirectedHorrorRevs') \n",
    "        yield nodeId, score\n",
    "        where not gds.util.asNode(nodeId).movieId is null\n",
    "        RETURN gds.util.asNode(nodeId).movieId as criricName, score\n",
    "        order by score desc limit 10\n",
    "        \"\"\"\n",
    "    )\n",
    "    # Summary information\n",
    "    for mi_films in records:\n",
    "        print(mi_films)"
   ],
   "id": "dad0e7e12ec45771",
   "outputs": [
    {
     "name": "stdout",
     "output_type": "stream",
     "text": [
      "<Record criricName='let_me_in' score=448928.04114027834>\n",
      "<Record criricName='let_the_right_one_in' score=395866.8598411403>\n",
      "<Record criricName='saint_maud' score=367068.6054560554>\n",
      "<Record criricName='dawn_of_the_dead' score=253107.91030931062>\n",
      "<Record criricName='hatching' score=206134.425352606>\n",
      "<Record criricName='land_of_the_dead' score=175986.35425702116>\n",
      "<Record criricName='1007818-frankenstein' score=165088.02449056448>\n",
      "<Record criricName='carrie' score=153642.59551391224>\n",
      "<Record criricName='blood_quantum' score=145298.90259661412>\n",
      "<Record criricName='sleepy_hollow' score=136872.25779412896>\n"
     ]
    }
   ],
   "execution_count": 142
  },
  {
   "metadata": {},
   "cell_type": "markdown",
   "source": [
    "DOMANDA 5\n",
    "\n",
    "Sistema di Reccomandation\n",
    "E' possibile creare un sistema di raccomandazioni confrontando gli utenti che hanno preferenze simili in termini di preferenze cinematografiche.\n",
    "Grazie alla struttura a grafo possiamo implementare direttamente un algoritmo di k-neighbors tramote query e ottenere le coppie di utenti più simili seguendo un approccio di reccomendation user-based.\n",
    "\n",
    "Dopo di che selezioniamo un critico e come suggerimenti possiamo prendere altri film che sono stati apprezzati da un suo \"simile\" e che lui non ha guardato.\n",
    "\n",
    "Stavolta restringiamo il campo alla community attorno al genere Sci-fi\n",
    " "
   ],
   "id": "7162ebf43efa264c"
  },
  {
   "metadata": {
    "ExecuteTime": {
     "end_time": "2024-05-22T12:36:02.580088Z",
     "start_time": "2024-05-22T12:35:54.770374Z"
    }
   },
   "cell_type": "code",
   "source": [
    "with GraphDatabase.driver(URI, auth=AUTH) as driver:\n",
    "    driver.verify_connectivity()\n",
    "\n",
    "    records, summary, keys =driver.execute_query(\n",
    "        \"\"\"\n",
    "            match (cr1:Critic)-[r1:REVIEW]->(mv1:Movie)<-[r2:REVIEW]-(cr2:Critic)\n",
    "            where \"Sci-fi\" in mv1.genre\n",
    "                and cr1.criticName <> cr2.criticName\n",
    "                and r1.scoreSentiment = \"POSITIVE\" and r2.scoreSentiment = \"POSITIVE\"\n",
    "            return cr1.criticName, cr2.criticName, count(mv1) as commonMovies\n",
    "            order by commonMovies DESC limit 50\n",
    "        \"\"\"\n",
    "    )\n",
    "\n",
    "    #estrazione coppie di nomi di utenti simili\n",
    "        "
   ],
   "id": "b07aa80c1fe31aae",
   "outputs": [],
   "execution_count": 143
  },
  {
   "metadata": {
    "ExecuteTime": {
     "end_time": "2024-05-22T12:36:02.590225Z",
     "start_time": "2024-05-22T12:36:02.580088Z"
    }
   },
   "cell_type": "code",
   "source": [
    "for critics in records:\n",
    "    print(critics)\n",
    "    \n",
    "#Selezioniamo i primi due simili\n",
    "\n",
    "node1 = records[0][0]\n",
    "node2 = records[0][1]"
   ],
   "id": "64773c5278615e44",
   "outputs": [
    {
     "name": "stdout",
     "output_type": "stream",
     "text": [
      "<Record cr1.criticName='Ken Hanke' cr2.criticName='Emanuel Levy' commonMovies=61>\n",
      "<Record cr1.criticName='Emanuel Levy' cr2.criticName='Ken Hanke' commonMovies=61>\n",
      "<Record cr1.criticName='Emanuel Levy' cr2.criticName='Scott Weinberg' commonMovies=51>\n",
      "<Record cr1.criticName='Scott Weinberg' cr2.criticName='Emanuel Levy' commonMovies=51>\n",
      "<Record cr1.criticName='Dennis Schwartz' cr2.criticName='Ken Hanke' commonMovies=49>\n",
      "<Record cr1.criticName='Ken Hanke' cr2.criticName='Dennis Schwartz' commonMovies=49>\n",
      "<Record cr1.criticName='Ken Hanke' cr2.criticName='Scott Weinberg' commonMovies=46>\n",
      "<Record cr1.criticName='Scott Weinberg' cr2.criticName='Ken Hanke' commonMovies=46>\n",
      "<Record cr1.criticName='Dennis Schwartz' cr2.criticName='Emanuel Levy' commonMovies=43>\n",
      "<Record cr1.criticName='Emanuel Levy' cr2.criticName='Dennis Schwartz' commonMovies=43>\n",
      "<Record cr1.criticName='Ken Hanke' cr2.criticName='Matt Brunson' commonMovies=40>\n",
      "<Record cr1.criticName='Matt Brunson' cr2.criticName='Ken Hanke' commonMovies=40>\n",
      "<Record cr1.criticName='Carol Cling' cr2.criticName='Emanuel Levy' commonMovies=39>\n",
      "<Record cr1.criticName='Emanuel Levy' cr2.criticName='Carol Cling' commonMovies=39>\n",
      "<Record cr1.criticName='Matt Brunson' cr2.criticName='Emanuel Levy' commonMovies=35>\n",
      "<Record cr1.criticName='Emanuel Levy' cr2.criticName='Matt Brunson' commonMovies=35>\n",
      "<Record cr1.criticName=\"James O'Ehley\" cr2.criticName='Emanuel Levy' commonMovies=32>\n",
      "<Record cr1.criticName='Emanuel Levy' cr2.criticName=\"James O'Ehley\" commonMovies=32>\n",
      "<Record cr1.criticName='Dennis Schwartz' cr2.criticName='Scott Weinberg' commonMovies=31>\n",
      "<Record cr1.criticName='Rob Vaux' cr2.criticName='Scott Weinberg' commonMovies=31>\n",
      "<Record cr1.criticName='Scott Weinberg' cr2.criticName='Dennis Schwartz' commonMovies=31>\n",
      "<Record cr1.criticName='Scott Weinberg' cr2.criticName='Rob Vaux' commonMovies=31>\n",
      "<Record cr1.criticName='Matt Brunson' cr2.criticName='Scott Weinberg' commonMovies=30>\n",
      "<Record cr1.criticName='Scott Weinberg' cr2.criticName='Carol Cling' commonMovies=30>\n",
      "<Record cr1.criticName='Scott Weinberg' cr2.criticName='Matt Brunson' commonMovies=30>\n",
      "<Record cr1.criticName='Carol Cling' cr2.criticName='Scott Weinberg' commonMovies=30>\n",
      "<Record cr1.criticName='Matt Brunson' cr2.criticName='Dennis Schwartz' commonMovies=29>\n",
      "<Record cr1.criticName='Dennis Schwartz' cr2.criticName='Matt Brunson' commonMovies=29>\n",
      "<Record cr1.criticName='Emanuel Levy' cr2.criticName='Rob Vaux' commonMovies=28>\n",
      "<Record cr1.criticName='Cole Smithey' cr2.criticName='Emanuel Levy' commonMovies=28>\n",
      "<Record cr1.criticName='Tim Brayton' cr2.criticName='Emanuel Levy' commonMovies=28>\n",
      "<Record cr1.criticName='Steve Crum' cr2.criticName='Emanuel Levy' commonMovies=28>\n",
      "<Record cr1.criticName='Rob Vaux' cr2.criticName='Emanuel Levy' commonMovies=28>\n",
      "<Record cr1.criticName='Emanuel Levy' cr2.criticName='Cole Smithey' commonMovies=28>\n",
      "<Record cr1.criticName='Emanuel Levy' cr2.criticName='Steve Crum' commonMovies=28>\n",
      "<Record cr1.criticName='Emanuel Levy' cr2.criticName='Daniel M. Kimmel' commonMovies=28>\n",
      "<Record cr1.criticName='Daniel M. Kimmel' cr2.criticName='Emanuel Levy' commonMovies=28>\n",
      "<Record cr1.criticName='Emanuel Levy' cr2.criticName='Tim Brayton' commonMovies=28>\n",
      "<Record cr1.criticName='Carol Cling' cr2.criticName='Ken Hanke' commonMovies=27>\n",
      "<Record cr1.criticName='Ken Hanke' cr2.criticName='Carol Cling' commonMovies=27>\n",
      "<Record cr1.criticName='Ken Hanke' cr2.criticName='Rob Humanick' commonMovies=27>\n",
      "<Record cr1.criticName='Ken Hanke' cr2.criticName='Tim Brayton' commonMovies=27>\n",
      "<Record cr1.criticName='Daniel M. Kimmel' cr2.criticName='Scott Weinberg' commonMovies=27>\n",
      "<Record cr1.criticName='Scott Weinberg' cr2.criticName='Daniel M. Kimmel' commonMovies=27>\n",
      "<Record cr1.criticName='Rob Humanick' cr2.criticName='Ken Hanke' commonMovies=27>\n",
      "<Record cr1.criticName='Tim Brayton' cr2.criticName='Ken Hanke' commonMovies=27>\n",
      "<Record cr1.criticName='Ken Hanke' cr2.criticName='Daniel M. Kimmel' commonMovies=26>\n",
      "<Record cr1.criticName='Daniel M. Kimmel' cr2.criticName='Ken Hanke' commonMovies=26>\n",
      "<Record cr1.criticName='Ken Hanke' cr2.criticName='Steve Crum' commonMovies=25>\n",
      "<Record cr1.criticName='Dennis Schwartz' cr2.criticName='Carol Cling' commonMovies=25>\n"
     ]
    }
   ],
   "execution_count": 144
  },
  {
   "metadata": {
    "ExecuteTime": {
     "end_time": "2024-05-22T12:36:09.166288Z",
     "start_time": "2024-05-22T12:36:02.590225Z"
    }
   },
   "cell_type": "code",
   "source": [
    "print(node1,\" - \",node2)\n",
    "#Estraiamo i nodi che sono stati visti dal primo nodo, ma non dal secondo\n",
    "with GraphDatabase.driver(URI, auth=AUTH) as driver:\n",
    "    driver.verify_connectivity()\n",
    "    query = \"\"\"\n",
    "            match (cr1:Critic {criticName:'\"\"\"+node1+\"\"\"'})-[r1:REVIEW]->(mv1:Movie)<-[r2:REVIEW]-(cr2:Critic)\n",
    "            where \"Sci-fi\" in mv1.genre\n",
    "                and cr2.criticName <> '\"\"\"+node2+\"\"\"'\n",
    "                and r1.scoreSentiment = \"POSITIVE\"\n",
    "            return distinct mv1.movieTitle\n",
    "        \"\"\"\n",
    "    \n",
    "    records, summary, keys =driver.execute_query(\n",
    "        query\n",
    "    )\n",
    "    \n",
    "    for suggestion in records:\n",
    "        print(suggestion)"
   ],
   "id": "ed27f89041eace92",
   "outputs": [
    {
     "name": "stdout",
     "output_type": "stream",
     "text": [
      "Ken Hanke  -  Emanuel Levy\n",
      "<Record mv1.movieTitle='Frankenstein Unbound'>\n",
      "<Record mv1.movieTitle='Earth vs. the Flying Saucers'>\n",
      "<Record mv1.movieTitle='The Four Sided Triangle'>\n",
      "<Record mv1.movieTitle='Danger: Diabolik'>\n",
      "<Record mv1.movieTitle='The Blob'>\n",
      "<Record mv1.movieTitle='20 Million Miles to Earth'>\n",
      "<Record mv1.movieTitle='King Kong vs. Godzilla'>\n",
      "<Record mv1.movieTitle=\"The Invisible Man's Revenge\">\n",
      "<Record mv1.movieTitle='Looker'>\n",
      "<Record mv1.movieTitle='Zardoz'>\n",
      "<Record mv1.movieTitle='Beginning of the End'>\n",
      "<Record mv1.movieTitle='Things to Come'>\n",
      "<Record mv1.movieTitle='Earth vs. the Spider'>\n",
      "<Record mv1.movieTitle='The Monster That Challenged the World'>\n",
      "<Record mv1.movieTitle='This Island Earth'>\n",
      "<Record mv1.movieTitle='Tarantula'>\n",
      "<Record mv1.movieTitle='My Stepmother Is an Alien'>\n",
      "<Record mv1.movieTitle='The Invisible Man'>\n",
      "<Record mv1.movieTitle='Mothra'>\n",
      "<Record mv1.movieTitle='Robinson Crusoe on Mars'>\n",
      "<Record mv1.movieTitle='The Brother From Another Planet'>\n",
      "<Record mv1.movieTitle='Invaders From Mars'>\n",
      "<Record mv1.movieTitle='The Stepford Wives'>\n",
      "<Record mv1.movieTitle='The Hidden'>\n",
      "<Record mv1.movieTitle='Attack of the 50-Foot Woman'>\n",
      "<Record mv1.movieTitle='Forbidden Planet'>\n",
      "<Record mv1.movieTitle='The Giant Gila Monster'>\n",
      "<Record mv1.movieTitle='The Man Who Fell to Earth'>\n",
      "<Record mv1.movieTitle='Scanners'>\n",
      "<Record mv1.movieTitle='Kronos'>\n",
      "<Record mv1.movieTitle='The Beast From 20,000 Fathoms'>\n",
      "<Record mv1.movieTitle='On the Beach'>\n",
      "<Record mv1.movieTitle='Delicatessen'>\n",
      "<Record mv1.movieTitle='Flash Gordon Conquers the Universe'>\n",
      "<Record mv1.movieTitle='First Men in the Moon'>\n",
      "<Record mv1.movieTitle='The Invisible Man Returns'>\n",
      "<Record mv1.movieTitle='Village of the Damned'>\n",
      "<Record mv1.movieTitle='Them!'>\n",
      "<Record mv1.movieTitle='Under the Skin'>\n",
      "<Record mv1.movieTitle='The Giant Claw'>\n",
      "<Record mv1.movieTitle='It! The Terror From Beyond Space'>\n",
      "<Record mv1.movieTitle='Repo Man'>\n",
      "<Record mv1.movieTitle='Naked Lunch'>\n",
      "<Record mv1.movieTitle='The Incredible Shrinking Man'>\n",
      "<Record mv1.movieTitle='X the Unknown'>\n",
      "<Record mv1.movieTitle='Altered States'>\n",
      "<Record mv1.movieTitle='Fahrenheit 451'>\n",
      "<Record mv1.movieTitle='Journey to the Center of the Earth'>\n",
      "<Record mv1.movieTitle='Barbarella'>\n",
      "<Record mv1.movieTitle='Robot Monster'>\n",
      "<Record mv1.movieTitle='Plan 9 From Outer Space'>\n",
      "<Record mv1.movieTitle='The Brain From Planet Arous'>\n",
      "<Record mv1.movieTitle='The Man From Planet X'>\n",
      "<Record mv1.movieTitle='Mad Love'>\n",
      "<Record mv1.movieTitle='The Last Man on Earth'>\n",
      "<Record mv1.movieTitle='THX-1138'>\n",
      "<Record mv1.movieTitle='The Day the Earth Stood Still'>\n",
      "<Record mv1.movieTitle='Voyage to the Bottom of the Sea'>\n",
      "<Record mv1.movieTitle='The Quatermass Xperiment'>\n",
      "<Record mv1.movieTitle='The Thing'>\n",
      "<Record mv1.movieTitle='When Worlds Collide'>\n",
      "<Record mv1.movieTitle='Godzilla'>\n",
      "<Record mv1.movieTitle='Return of the Fly'>\n",
      "<Record mv1.movieTitle='Trancers'>\n",
      "<Record mv1.movieTitle='The Day the World Ended'>\n",
      "<Record mv1.movieTitle='Panic in Year Zero'>\n",
      "<Record mv1.movieTitle='I Married a Monster From Outer Space'>\n",
      "<Record mv1.movieTitle='Night of the Comet'>\n",
      "<Record mv1.movieTitle='One Million B.C.'>\n",
      "<Record mv1.movieTitle='Attack of the Mushroom People'>\n",
      "<Record mv1.movieTitle='Trancers II'>\n",
      "<Record mv1.movieTitle='Fantastic Voyage'>\n",
      "<Record mv1.movieTitle='The Tenth Victim'>\n",
      "<Record mv1.movieTitle='The Day the Earth Caught Fire'>\n",
      "<Record mv1.movieTitle='Body Snatchers'>\n",
      "<Record mv1.movieTitle='The Man They Could Not Hang'>\n",
      "<Record mv1.movieTitle='Gorgo'>\n",
      "<Record mv1.movieTitle='District 9'>\n",
      "<Record mv1.movieTitle='Beyond the Time Barrier'>\n",
      "<Record mv1.movieTitle='Man-Made Monster'>\n",
      "<Record mv1.movieTitle='The Manster'>\n",
      "<Record mv1.movieTitle='Coma'>\n",
      "<Record mv1.movieTitle='The Day of the Triffids'>\n",
      "<Record mv1.movieTitle='Invasion of the Body Snatchers'>\n",
      "<Record mv1.movieTitle='Slaughterhouse Five'>\n",
      "<Record mv1.movieTitle=\"Donovan's Brain\">\n",
      "<Record mv1.movieTitle='Android'>\n",
      "<Record mv1.movieTitle='The Lost Continent'>\n",
      "<Record mv1.movieTitle='Destination Moon'>\n",
      "<Record mv1.movieTitle='The Time Machine'>\n",
      "<Record mv1.movieTitle='World Without End'>\n",
      "<Record mv1.movieTitle='Invasion of the Saucer Men'>\n",
      "<Record mv1.movieTitle='It Came From Outer Space'>\n",
      "<Record mv1.movieTitle='Monster on the Campus'>\n",
      "<Record mv1.movieTitle='The Island of Dr. Moreau'>\n",
      "<Record mv1.movieTitle='It Came From Beneath the Sea'>\n",
      "<Record mv1.movieTitle='The Invisible Ray'>\n",
      "<Record mv1.movieTitle='Saturn 3'>\n",
      "<Record mv1.movieTitle='Until the End of the World'>\n",
      "<Record mv1.movieTitle='Dr. Cyclops'>\n",
      "<Record mv1.movieTitle='Sunshine'>\n",
      "<Record mv1.movieTitle='Terror of Mechagodzilla'>\n",
      "<Record mv1.movieTitle='Attack of the Crab Monsters'>\n",
      "<Record mv1.movieTitle='Godzilla, King of the Monsters!'>\n",
      "<Record mv1.movieTitle='The Omega Man'>\n",
      "<Record mv1.movieTitle='The Wasp Woman'>\n"
     ]
    }
   ],
   "execution_count": 145
  },
  {
   "metadata": {},
   "cell_type": "markdown",
   "source": [
    "DOMANDA 6\n",
    "Confronto dimensioni delle comunità.\n",
    "\n",
    "L'ultima analisi proposta prevede confrontare le comunità di critici attorno ad un genere per scoprire quali occupano un opzione maggiore dell'utenza della piattaforma."
   ],
   "id": "e04e1ea29e0caafd"
  },
  {
   "metadata": {
    "ExecuteTime": {
     "end_time": "2024-05-22T12:36:20.035537Z",
     "start_time": "2024-05-22T12:36:09.166793Z"
    }
   },
   "cell_type": "code",
   "source": [
    "with GraphDatabase.driver(URI, auth=AUTH) as driver:\n",
    "    driver.verify_connectivity()\n",
    "    records, summary, keys = driver.execute_query(\n",
    "        \"\"\"\n",
    "        MATCH (cr:Critic)-[r:REVIEW]->(mv:Movie) \n",
    "        WHERE r.scoreSentiment = \"POSITIVE\" and \"Romance\" in mv.genre \n",
    "        return count(cr)\n",
    "        \"\"\"\n",
    "    )\n",
    "    print(f\"Dimensioni community romance: {records[0][0]}\")\n",
    "    records, summary, keys = driver.execute_query(\n",
    "        \"\"\"\n",
    "        MATCH (cr:Critic)-[r:REVIEW]->(mv:Movie) \n",
    "        WHERE r.scoreSentiment = \"POSITIVE\" and \"Sci-fi\" in mv.genre \n",
    "        return count(cr)\n",
    "        \"\"\"\n",
    "    )\n",
    "    print(f\"Dimensioni community Sci-fi: {records[0][0]}\")\n",
    "    records, summary, keys = driver.execute_query(\n",
    "        \"\"\"\n",
    "    MATCH (cr:Critic)-[r:REVIEW]->(mv:Movie) \n",
    "    WHERE r.scoreSentiment = \"POSITIVE\" and \"Horror\" in mv.genre \n",
    "    return count(cr)\n",
    "        \"\"\"\n",
    "    )\n",
    "    print(f\"Dimensioni community Horror: {records[0][0]}\")"
   ],
   "id": "fd88fbee87b18bc0",
   "outputs": [
    {
     "name": "stdout",
     "output_type": "stream",
     "text": [
      "Dimensioni community romance: 3092\n",
      "Dimensioni community Sci-fi: 5355\n",
      "Dimensioni community Horror: 14375\n"
     ]
    }
   ],
   "execution_count": 146
  }
 ],
 "metadata": {
  "kernelspec": {
   "display_name": "Python 3",
   "language": "python",
   "name": "python3"
  },
  "language_info": {
   "codemirror_mode": {
    "name": "ipython",
    "version": 2
   },
   "file_extension": ".py",
   "mimetype": "text/x-python",
   "name": "python",
   "nbconvert_exporter": "python",
   "pygments_lexer": "ipython2",
   "version": "2.7.6"
  }
 },
 "nbformat": 4,
 "nbformat_minor": 5
}
